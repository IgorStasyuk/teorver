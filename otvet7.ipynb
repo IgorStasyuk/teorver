{
 "cells": [
  {
   "cell_type": "markdown",
   "id": "14ab34f3",
   "metadata": {},
   "source": [
    "# Задача № 1"
   ]
  },
  {
   "cell_type": "markdown",
   "id": "946d8dbd",
   "metadata": {},
   "source": [
    "Дана матрица объект-признак\n",
    "```\n",
    "\n",
    "X = [[ 1.22401313,  2.30868478,  3.03636353,  2.69287214],\n",
    "     [-0.18757272,  1.30337355,  5.12093014,  3.46363202],\n",
    "     [-0.81094525,  1.82463398,  5.79686488,  1.86159445],\n",
    "     [ 0.75129018,  2.67392052,  3.65529809,  1.66746094],\n",
    "     [ 0.00972362,  1.97367255,  2.50594319,  1.69755173],\n",
    "     [-0.62972637,  0.77750764,  2.84124027,  4.54410559],\n",
    "     [ 2.29536229,  1.81206697,  1.95026215,  1.51874636],\n",
    "     [ 0.0920418 ,  2.26971361,  7.47708735,  2.61081203],\n",
    "     [ 2.39252799,  3.17563985,  3.61420599,  5.10773362],\n",
    "     [ 0.54983815,  2.87988651,  1.65752765,  1.59635987]]\n",
    "     \n",
    "```\n",
    "\n",
    "и значения целевой переменной\n",
    "\n",
    "```\n",
    "\n",
    "y = [ 9.26193358,  9.700363  ,  8.67214805,  8.74796974,  6.18689108,\n",
    "      7.53312713,  7.57643777, 12.44965478, 14.29010746,  6.68361218]\n",
    "```\n",
    "\n",
    "Подберите два признака (из четырёх) так, чтобы уровень линейной зависимости целевой переменной от значений этих признаков был максимальным.\n",
    "\n",
    "Другими словами, модель линейной регрессии на этих признаках должна давать наилучший результат.\n",
    "\n",
    "В качестве ответа запишите значение коэффициента детерминации для модели на этих признаках."
   ]
  },
  {
   "cell_type": "code",
   "execution_count": 235,
   "id": "abb749ca",
   "metadata": {},
   "outputs": [],
   "source": [
    "import numpy as np\n",
    "import pandas as pd"
   ]
  },
  {
   "cell_type": "code",
   "execution_count": 236,
   "id": "d5bd0ce6",
   "metadata": {},
   "outputs": [],
   "source": [
    "x = np.array([[ 1.22401313,  2.30868478,  3.03636353,  2.69287214],\n",
    "     [-0.18757272,  1.30337355,  5.12093014,  3.46363202],\n",
    "     [-0.81094525,  1.82463398,  5.79686488,  1.86159445],\n",
    "     [ 0.75129018,  2.67392052,  3.65529809,  1.66746094],\n",
    "     [ 0.00972362,  1.97367255,  2.50594319,  1.69755173],\n",
    "     [-0.62972637,  0.77750764,  2.84124027,  4.54410559],\n",
    "     [ 2.29536229,  1.81206697,  1.95026215,  1.51874636],\n",
    "     [ 0.0920418 ,  2.26971361,  7.47708735,  2.61081203],\n",
    "     [ 2.39252799,  3.17563985,  3.61420599,  5.10773362],\n",
    "     [ 0.54983815,  2.87988651,  1.65752765,  1.59635987]])\n",
    "\n",
    "y = np.array([ 9.26193358,  9.700363  ,  8.67214805,  8.74796974,  6.18689108,\n",
    "      7.53312713,  7.57643777, 12.44965478, 14.29010746,  6.68361218])"
   ]
  },
  {
   "cell_type": "markdown",
   "id": "b86479b1",
   "metadata": {},
   "source": [
    "у нас задача как про хоккеистов, только признаков не 2, а 4. Переводим наши данные в датафрейм"
   ]
  },
  {
   "cell_type": "code",
   "execution_count": 237,
   "id": "cf649e08",
   "metadata": {},
   "outputs": [],
   "source": [
    "x_df = pd.DataFrame(x).values\n",
    "y_df = pd.DataFrame(y).values"
   ]
  },
  {
   "cell_type": "code",
   "execution_count": 238,
   "id": "af6eae72",
   "metadata": {},
   "outputs": [
    {
     "data": {
      "text/plain": [
       "(10, 4)"
      ]
     },
     "execution_count": 238,
     "metadata": {},
     "output_type": "execute_result"
    }
   ],
   "source": [
    "x_df.shape"
   ]
  },
  {
   "cell_type": "markdown",
   "id": "1e2c8695",
   "metadata": {},
   "source": [
    "добавляем признак равный 1 к столбцу с признаками"
   ]
  },
  {
   "cell_type": "code",
   "execution_count": 239,
   "id": "2a3d062c",
   "metadata": {},
   "outputs": [],
   "source": [
    "ones = np.ones((x_df.shape[0], 1))\n",
    "x_df = np.hstack((ones, x_df))"
   ]
  },
  {
   "cell_type": "code",
   "execution_count": 240,
   "id": "61462daf",
   "metadata": {},
   "outputs": [
    {
     "data": {
      "text/plain": [
       "(10, 5)"
      ]
     },
     "execution_count": 240,
     "metadata": {},
     "output_type": "execute_result"
    }
   ],
   "source": [
    "x_df.shape"
   ]
  },
  {
   "cell_type": "code",
   "execution_count": 241,
   "id": "83390974",
   "metadata": {},
   "outputs": [
    {
     "data": {
      "text/plain": [
       "array([[ 1.        ,  1.22401313,  2.30868478,  3.03636353,  2.69287214],\n",
       "       [ 1.        , -0.18757272,  1.30337355,  5.12093014,  3.46363202],\n",
       "       [ 1.        , -0.81094525,  1.82463398,  5.79686488,  1.86159445],\n",
       "       [ 1.        ,  0.75129018,  2.67392052,  3.65529809,  1.66746094],\n",
       "       [ 1.        ,  0.00972362,  1.97367255,  2.50594319,  1.69755173],\n",
       "       [ 1.        , -0.62972637,  0.77750764,  2.84124027,  4.54410559],\n",
       "       [ 1.        ,  2.29536229,  1.81206697,  1.95026215,  1.51874636],\n",
       "       [ 1.        ,  0.0920418 ,  2.26971361,  7.47708735,  2.61081203],\n",
       "       [ 1.        ,  2.39252799,  3.17563985,  3.61420599,  5.10773362],\n",
       "       [ 1.        ,  0.54983815,  2.87988651,  1.65752765,  1.59635987]])"
      ]
     },
     "execution_count": 241,
     "metadata": {},
     "output_type": "execute_result"
    }
   ],
   "source": [
    "x_df"
   ]
  },
  {
   "cell_type": "code",
   "execution_count": 242,
   "id": "2637f684",
   "metadata": {},
   "outputs": [],
   "source": [
    "XTX = x_df.T.dot(x_df)"
   ]
  },
  {
   "cell_type": "markdown",
   "id": "0bb05e2f",
   "metadata": {},
   "source": [
    "получаем коэффициенты:"
   ]
  },
  {
   "cell_type": "code",
   "execution_count": 243,
   "id": "90eece10",
   "metadata": {},
   "outputs": [
    {
     "name": "stdout",
     "output_type": "stream",
     "text": [
      "[[-7.50726148e-09]\n",
      " [ 1.00000000e+00]\n",
      " [ 1.00000000e+00]\n",
      " [ 9.99999999e-01]\n",
      " [ 1.00000000e+00]]\n"
     ]
    }
   ],
   "source": [
    "XTX_inv = np.linalg.inv(XTX)\n",
    "\n",
    "b = XTX_inv.dot(x_df.T).dot(y_df)\n",
    "\n",
    "print(b)"
   ]
  },
  {
   "cell_type": "markdown",
   "id": "79adf69c",
   "metadata": {},
   "source": [
    "то есть получилось, что свободный коэффициент равен 0, а остальные равны 1."
   ]
  },
  {
   "cell_type": "markdown",
   "id": "3c6b3908",
   "metadata": {},
   "source": [
    "Проверим, что средняя ошибка модели равна 0"
   ]
  },
  {
   "cell_type": "code",
   "execution_count": 244,
   "id": "9b99b369",
   "metadata": {},
   "outputs": [
    {
     "data": {
      "text/plain": [
       "array([[-2.19220198e-09],\n",
       "       [ 1.12569580e-08],\n",
       "       [-2.99836600e-09],\n",
       "       [ 1.17576739e-08],\n",
       "       [-7.04765224e-09],\n",
       "       [-2.13781259e-09],\n",
       "       [-1.58276592e-09],\n",
       "       [-5.99786354e-09],\n",
       "       [-1.61779745e-09],\n",
       "       [ 5.59344571e-10]])"
      ]
     },
     "execution_count": 244,
     "metadata": {},
     "output_type": "execute_result"
    }
   ],
   "source": [
    "z = x_df.dot(b)\n",
    "e = y_df - z\n",
    "\n",
    "e"
   ]
  },
  {
   "cell_type": "code",
   "execution_count": 245,
   "id": "f7db3965",
   "metadata": {},
   "outputs": [
    {
     "data": {
      "text/plain": [
       "-4.831690603168681e-14"
      ]
     },
     "execution_count": 245,
     "metadata": {},
     "output_type": "execute_result"
    }
   ],
   "source": [
    "e.mean()"
   ]
  },
  {
   "cell_type": "code",
   "execution_count": 246,
   "id": "f8d982c0",
   "metadata": {},
   "outputs": [],
   "source": [
    "def sum_of_squares(samples: np.ndarray) -> float:\n",
    "    \"\"\"Сумма квадратов отклонений.\n",
    "    \"\"\"\n",
    "    \n",
    "    return ((samples - samples.mean()) ** 2).sum()"
   ]
  },
  {
   "cell_type": "code",
   "execution_count": 247,
   "id": "011bd3d7",
   "metadata": {},
   "outputs": [
    {
     "data": {
      "text/plain": [
       "1.0"
      ]
     },
     "execution_count": 247,
     "metadata": {},
     "output_type": "execute_result"
    }
   ],
   "source": [
    "R = 1 - sum_of_squares(e) / sum_of_squares(y_df)\n",
    "R"
   ]
  },
  {
   "cell_type": "code",
   "execution_count": 279,
   "id": "334da850",
   "metadata": {},
   "outputs": [
    {
     "data": {
      "text/plain": [
       "array([[ 1.        ,  1.22401313,  2.30868478,  3.03636353,  2.69287214],\n",
       "       [ 1.        , -0.18757272,  1.30337355,  5.12093014,  3.46363202],\n",
       "       [ 1.        , -0.81094525,  1.82463398,  5.79686488,  1.86159445],\n",
       "       [ 1.        ,  0.75129018,  2.67392052,  3.65529809,  1.66746094],\n",
       "       [ 1.        ,  0.00972362,  1.97367255,  2.50594319,  1.69755173],\n",
       "       [ 1.        , -0.62972637,  0.77750764,  2.84124027,  4.54410559],\n",
       "       [ 1.        ,  2.29536229,  1.81206697,  1.95026215,  1.51874636],\n",
       "       [ 1.        ,  0.0920418 ,  2.26971361,  7.47708735,  2.61081203],\n",
       "       [ 1.        ,  2.39252799,  3.17563985,  3.61420599,  5.10773362],\n",
       "       [ 1.        ,  0.54983815,  2.87988651,  1.65752765,  1.59635987]])"
      ]
     },
     "execution_count": 279,
     "metadata": {},
     "output_type": "execute_result"
    }
   ],
   "source": [
    "x_df"
   ]
  },
  {
   "cell_type": "code",
   "execution_count": 283,
   "id": "afc5b744",
   "metadata": {},
   "outputs": [
    {
     "data": {
      "text/plain": [
       "array([[1.        , 3.03636353, 2.69287214],\n",
       "       [1.        , 5.12093014, 3.46363202],\n",
       "       [1.        , 5.79686488, 1.86159445],\n",
       "       [1.        , 3.65529809, 1.66746094],\n",
       "       [1.        , 2.50594319, 1.69755173],\n",
       "       [1.        , 2.84124027, 4.54410559],\n",
       "       [1.        , 1.95026215, 1.51874636],\n",
       "       [1.        , 7.47708735, 2.61081203],\n",
       "       [1.        , 3.61420599, 5.10773362],\n",
       "       [1.        , 1.65752765, 1.59635987]])"
      ]
     },
     "execution_count": 283,
     "metadata": {},
     "output_type": "execute_result"
    }
   ],
   "source": [
    "x_34 = np.delete(x_df, [1,2], axis=1)\n",
    "x_34"
   ]
  },
  {
   "cell_type": "code",
   "execution_count": 284,
   "id": "7fead18b",
   "metadata": {},
   "outputs": [],
   "source": [
    "XTX = x_34.T.dot(x_34)"
   ]
  },
  {
   "cell_type": "code",
   "execution_count": 288,
   "id": "b409b7b8",
   "metadata": {},
   "outputs": [
    {
     "name": "stdout",
     "output_type": "stream",
     "text": [
      "[[3.64001086]\n",
      " [0.70753914]\n",
      " [1.04851745]]\n"
     ]
    }
   ],
   "source": [
    "XTX_inv = np.linalg.inv(XTX)\n",
    "\n",
    "b = XTX_inv.dot(x_34.T).dot(y_df)\n",
    "\n",
    "print(b)"
   ]
  },
  {
   "cell_type": "code",
   "execution_count": 289,
   "id": "7809cc1a",
   "metadata": {},
   "outputs": [
    {
     "data": {
      "text/plain": [
       "array([[ 0.65005323],\n",
       "       [-1.19458502],\n",
       "       [-1.0212859 ],\n",
       "       [ 0.7733305 ],\n",
       "       [-1.0060853 ],\n",
       "       [-2.88174646],\n",
       "       [ 0.96410803],\n",
       "       [ 0.78182995],\n",
       "       [ 2.73735653],\n",
       "       [ 0.19702444]])"
      ]
     },
     "execution_count": 289,
     "metadata": {},
     "output_type": "execute_result"
    }
   ],
   "source": [
    "z_34 = x_34.dot(b)\n",
    "e_34 = y_df - z_34\n",
    "\n",
    "e_34"
   ]
  },
  {
   "cell_type": "code",
   "execution_count": 291,
   "id": "94961a24",
   "metadata": {},
   "outputs": [
    {
     "data": {
      "text/plain": [
       "0.6224419876505323"
      ]
     },
     "execution_count": 291,
     "metadata": {},
     "output_type": "execute_result"
    }
   ],
   "source": [
    "R_34 = 1 - sum_of_squares(e_34) / sum_of_squares(y_df)\n",
    "R_34"
   ]
  },
  {
   "cell_type": "code",
   "execution_count": 292,
   "id": "260bb351",
   "metadata": {},
   "outputs": [
    {
     "data": {
      "text/plain": [
       "array([[1.        , 2.30868478, 2.69287214],\n",
       "       [1.        , 1.30337355, 3.46363202],\n",
       "       [1.        , 1.82463398, 1.86159445],\n",
       "       [1.        , 2.67392052, 1.66746094],\n",
       "       [1.        , 1.97367255, 1.69755173],\n",
       "       [1.        , 0.77750764, 4.54410559],\n",
       "       [1.        , 1.81206697, 1.51874636],\n",
       "       [1.        , 2.26971361, 2.61081203],\n",
       "       [1.        , 3.17563985, 5.10773362],\n",
       "       [1.        , 2.87988651, 1.59635987]])"
      ]
     },
     "execution_count": 292,
     "metadata": {},
     "output_type": "execute_result"
    }
   ],
   "source": [
    "x_24 = np.delete(x_df, [1,3], axis=1)\n",
    "x_24"
   ]
  },
  {
   "cell_type": "code",
   "execution_count": 295,
   "id": "9fce1627",
   "metadata": {},
   "outputs": [],
   "source": [
    "XTX = x_24.T.dot(x_24)"
   ]
  },
  {
   "cell_type": "code",
   "execution_count": 296,
   "id": "b8c8eca1",
   "metadata": {},
   "outputs": [
    {
     "name": "stdout",
     "output_type": "stream",
     "text": [
      "[[1.91685221]\n",
      " [1.74373667]\n",
      " [1.31971882]]\n"
     ]
    }
   ],
   "source": [
    "XTX_inv = np.linalg.inv(XTX)\n",
    "\n",
    "b = XTX_inv.dot(x_24.T).dot(y_df)\n",
    "\n",
    "print(b)"
   ]
  },
  {
   "cell_type": "code",
   "execution_count": 297,
   "id": "7df86736",
   "metadata": {},
   "outputs": [
    {
     "data": {
      "text/plain": [
       "array([[-0.23449097],\n",
       "       [ 0.93975019],\n",
       "       [ 1.11683344],\n",
       "       [-0.03207531],\n",
       "       [-1.41181729],\n",
       "       [-1.73643531],\n",
       "       [ 0.49549979],\n",
       "       [ 3.12948196],\n",
       "       [ 0.09500343],\n",
       "       [-2.3617499 ]])"
      ]
     },
     "execution_count": 297,
     "metadata": {},
     "output_type": "execute_result"
    }
   ],
   "source": [
    "z_24 = x_24.dot(b)\n",
    "e_24 = y_df - z_24\n",
    "\n",
    "e_24"
   ]
  },
  {
   "cell_type": "code",
   "execution_count": 299,
   "id": "4a34d016",
   "metadata": {},
   "outputs": [
    {
     "data": {
      "text/plain": [
       "0.6062055761129934"
      ]
     },
     "execution_count": 299,
     "metadata": {},
     "output_type": "execute_result"
    }
   ],
   "source": [
    "R_24 = 1 - sum_of_squares(e_24) / sum_of_squares(y_df)\n",
    "R_24"
   ]
  },
  {
   "cell_type": "code",
   "execution_count": 300,
   "id": "30619dd8",
   "metadata": {},
   "outputs": [
    {
     "data": {
      "text/plain": [
       "array([[1.        , 2.30868478, 3.03636353],\n",
       "       [1.        , 1.30337355, 5.12093014],\n",
       "       [1.        , 1.82463398, 5.79686488],\n",
       "       [1.        , 2.67392052, 3.65529809],\n",
       "       [1.        , 1.97367255, 2.50594319],\n",
       "       [1.        , 0.77750764, 2.84124027],\n",
       "       [1.        , 1.81206697, 1.95026215],\n",
       "       [1.        , 2.26971361, 7.47708735],\n",
       "       [1.        , 3.17563985, 3.61420599],\n",
       "       [1.        , 2.87988651, 1.65752765]])"
      ]
     },
     "execution_count": 300,
     "metadata": {},
     "output_type": "execute_result"
    }
   ],
   "source": [
    "x_23 = np.delete(x_df, [1,4], axis=1)\n",
    "x_23"
   ]
  },
  {
   "cell_type": "code",
   "execution_count": 301,
   "id": "a7a2925b",
   "metadata": {},
   "outputs": [],
   "source": [
    "XTX = x_23.T.dot(x_23)"
   ]
  },
  {
   "cell_type": "code",
   "execution_count": 303,
   "id": "3d474b8d",
   "metadata": {},
   "outputs": [
    {
     "name": "stdout",
     "output_type": "stream",
     "text": [
      "[[2.48896193]\n",
      " [1.60611956]\n",
      " [0.86269915]]\n"
     ]
    }
   ],
   "source": [
    "XTX_inv = np.linalg.inv(XTX)\n",
    "\n",
    "b = XTX_inv.dot(x_23.T).dot(y_df)\n",
    "\n",
    "print(b)"
   ]
  },
  {
   "cell_type": "code",
   "execution_count": 304,
   "id": "9c6ecf93",
   "metadata": {},
   "outputs": [
    {
     "data": {
      "text/plain": [
       "array([[ 0.44547964],\n",
       "       [ 0.70020526],\n",
       "       [-1.74834459],\n",
       "       [-1.18905078],\n",
       "       [-1.63389999],\n",
       "       [ 1.34425942],\n",
       "       [ 0.49459014],\n",
       "       [-0.13521545],\n",
       "       [ 3.58271583],\n",
       "       [-1.86073949]])"
      ]
     },
     "execution_count": 304,
     "metadata": {},
     "output_type": "execute_result"
    }
   ],
   "source": [
    "z_23 = x_23.dot(b)\n",
    "e_23 = y_df - z_23\n",
    "\n",
    "e_23"
   ]
  },
  {
   "cell_type": "code",
   "execution_count": 305,
   "id": "03e5725f",
   "metadata": {},
   "outputs": [
    {
     "data": {
      "text/plain": [
       "0.547948273403901"
      ]
     },
     "execution_count": 305,
     "metadata": {},
     "output_type": "execute_result"
    }
   ],
   "source": [
    "R_23 = 1 - sum_of_squares(e_23) / sum_of_squares(y_df)\n",
    "R_23"
   ]
  },
  {
   "cell_type": "code",
   "execution_count": 306,
   "id": "df92a803",
   "metadata": {},
   "outputs": [
    {
     "data": {
      "text/plain": [
       "array([[ 1.        ,  1.22401313,  3.03636353],\n",
       "       [ 1.        , -0.18757272,  5.12093014],\n",
       "       [ 1.        , -0.81094525,  5.79686488],\n",
       "       [ 1.        ,  0.75129018,  3.65529809],\n",
       "       [ 1.        ,  0.00972362,  2.50594319],\n",
       "       [ 1.        , -0.62972637,  2.84124027],\n",
       "       [ 1.        ,  2.29536229,  1.95026215],\n",
       "       [ 1.        ,  0.0920418 ,  7.47708735],\n",
       "       [ 1.        ,  2.39252799,  3.61420599],\n",
       "       [ 1.        ,  0.54983815,  1.65752765]])"
      ]
     },
     "execution_count": 306,
     "metadata": {},
     "output_type": "execute_result"
    }
   ],
   "source": [
    "x_13 = np.delete(x_df, [2,4], axis=1)\n",
    "x_13"
   ]
  },
  {
   "cell_type": "code",
   "execution_count": 307,
   "id": "783e1373",
   "metadata": {},
   "outputs": [],
   "source": [
    "XTX = x_13.T.dot(x_13)"
   ]
  },
  {
   "cell_type": "code",
   "execution_count": 308,
   "id": "b6622e99",
   "metadata": {},
   "outputs": [
    {
     "name": "stdout",
     "output_type": "stream",
     "text": [
      "[[3.62455695]\n",
      " [1.62531203]\n",
      " [1.21134979]]\n"
     ]
    }
   ],
   "source": [
    "XTX_inv = np.linalg.inv(XTX)\n",
    "\n",
    "b = XTX_inv.dot(x_13.T).dot(y_df)\n",
    "\n",
    "print(b)"
   ]
  },
  {
   "cell_type": "code",
   "execution_count": 309,
   "id": "0d347ae1",
   "metadata": {},
   "outputs": [
    {
     "data": {
      "text/plain": [
       "array([[-0.03012497],\n",
       "       [ 0.17743258],\n",
       "       [-0.6564009 ],\n",
       "       [-0.52551276],\n",
       "       [-0.48904355],\n",
       "       [ 1.49033621],\n",
       "       [-2.14124878],\n",
       "       [-0.38186703],\n",
       "       [ 2.3988783 ],\n",
       "       [ 0.15755089]])"
      ]
     },
     "execution_count": 309,
     "metadata": {},
     "output_type": "execute_result"
    }
   ],
   "source": [
    "z_13 = x_13.dot(b)\n",
    "e_13 = y_df - z_13\n",
    "\n",
    "e_13"
   ]
  },
  {
   "cell_type": "code",
   "execution_count": 310,
   "id": "d7a78626",
   "metadata": {},
   "outputs": [
    {
     "data": {
      "text/plain": [
       "0.763424623879315"
      ]
     },
     "execution_count": 310,
     "metadata": {},
     "output_type": "execute_result"
    }
   ],
   "source": [
    "R_13 = 1 - sum_of_squares(e_13) / sum_of_squares(y_df)\n",
    "R_13"
   ]
  },
  {
   "cell_type": "code",
   "execution_count": 311,
   "id": "e709fd4b",
   "metadata": {},
   "outputs": [
    {
     "data": {
      "text/plain": [
       "array([[ 1.        ,  1.22401313,  2.30868478],\n",
       "       [ 1.        , -0.18757272,  1.30337355],\n",
       "       [ 1.        , -0.81094525,  1.82463398],\n",
       "       [ 1.        ,  0.75129018,  2.67392052],\n",
       "       [ 1.        ,  0.00972362,  1.97367255],\n",
       "       [ 1.        , -0.62972637,  0.77750764],\n",
       "       [ 1.        ,  2.29536229,  1.81206697],\n",
       "       [ 1.        ,  0.0920418 ,  2.26971361],\n",
       "       [ 1.        ,  2.39252799,  3.17563985],\n",
       "       [ 1.        ,  0.54983815,  2.87988651]])"
      ]
     },
     "execution_count": 311,
     "metadata": {},
     "output_type": "execute_result"
    }
   ],
   "source": [
    "x_12 = np.delete(x_df, [3,4], axis=1)\n",
    "x_12"
   ]
  },
  {
   "cell_type": "code",
   "execution_count": 312,
   "id": "43f6e105",
   "metadata": {},
   "outputs": [],
   "source": [
    "XTX = x_12.T.dot(x_12)"
   ]
  },
  {
   "cell_type": "code",
   "execution_count": 313,
   "id": "e3400cb9",
   "metadata": {},
   "outputs": [
    {
     "name": "stdout",
     "output_type": "stream",
     "text": [
      "[[6.70781579]\n",
      " [0.40786841]\n",
      " [1.03360247]]\n"
     ]
    }
   ],
   "source": [
    "XTX_inv = np.linalg.inv(XTX)\n",
    "\n",
    "b = XTX_inv.dot(x_12.T).dot(y_df)\n",
    "\n",
    "print(b)"
   ]
  },
  {
   "cell_type": "code",
   "execution_count": 314,
   "id": "f6ff4026",
   "metadata": {},
   "outputs": [
    {
     "data": {
      "text/plain": [
       "array([[-0.33138079],\n",
       "       [ 1.72188207],\n",
       "       [ 0.40914502],\n",
       "       [-1.03004444],\n",
       "       [-2.56488349],\n",
       "       [ 0.27852302],\n",
       "       [-1.94054069],\n",
       "       [ 3.35831645],\n",
       "       [ 3.32410589],\n",
       "       [-3.22512304]])"
      ]
     },
     "execution_count": 314,
     "metadata": {},
     "output_type": "execute_result"
    }
   ],
   "source": [
    "z_12 = x_12.dot(b)\n",
    "e_12 = y_df - z_12\n",
    "\n",
    "e_12"
   ]
  },
  {
   "cell_type": "code",
   "execution_count": 315,
   "id": "de0466aa",
   "metadata": {},
   "outputs": [
    {
     "data": {
      "text/plain": [
       "0.18113594742585204"
      ]
     },
     "execution_count": 315,
     "metadata": {},
     "output_type": "execute_result"
    }
   ],
   "source": [
    "R_12 = 1 - sum_of_squares(e_12) / sum_of_squares(y_df)\n",
    "R_12"
   ]
  },
  {
   "cell_type": "code",
   "execution_count": 317,
   "id": "7836e1f6",
   "metadata": {},
   "outputs": [
    {
     "data": {
      "text/plain": [
       "array([[ 1.        ,  1.22401313,  2.69287214],\n",
       "       [ 1.        , -0.18757272,  3.46363202],\n",
       "       [ 1.        , -0.81094525,  1.86159445],\n",
       "       [ 1.        ,  0.75129018,  1.66746094],\n",
       "       [ 1.        ,  0.00972362,  1.69755173],\n",
       "       [ 1.        , -0.62972637,  4.54410559],\n",
       "       [ 1.        ,  2.29536229,  1.51874636],\n",
       "       [ 1.        ,  0.0920418 ,  2.61081203],\n",
       "       [ 1.        ,  2.39252799,  5.10773362],\n",
       "       [ 1.        ,  0.54983815,  1.59635987]])"
      ]
     },
     "execution_count": 317,
     "metadata": {},
     "output_type": "execute_result"
    }
   ],
   "source": [
    "x_14 = np.delete(x_df, [2,3], axis=1)\n",
    "x_14"
   ]
  },
  {
   "cell_type": "code",
   "execution_count": 318,
   "id": "e10a66b3",
   "metadata": {},
   "outputs": [],
   "source": [
    "XTX = x_14.T.dot(x_14)"
   ]
  },
  {
   "cell_type": "code",
   "execution_count": 319,
   "id": "8a2a14c2",
   "metadata": {},
   "outputs": [
    {
     "name": "stdout",
     "output_type": "stream",
     "text": [
      "[[5.70686123]\n",
      " [0.68359949]\n",
      " [1.12650707]]\n"
     ]
    }
   ],
   "source": [
    "XTX_inv = np.linalg.inv(XTX)\n",
    "\n",
    "b = XTX_inv.dot(x_14.T).dot(y_df)\n",
    "\n",
    "print(b)"
   ]
  },
  {
   "cell_type": "code",
   "execution_count": 320,
   "id": "26856ae2",
   "metadata": {},
   "outputs": [
    {
     "data": {
      "text/plain": [
       "array([[-0.3152019 ],\n",
       "       [ 0.21992042],\n",
       "       [ 1.42254926],\n",
       "       [ 0.64912039],\n",
       "       [-1.43892124],\n",
       "       [-2.86222056],\n",
       "       [-1.41041046],\n",
       "       [ 3.73877561],\n",
       "       [ 1.19381729],\n",
       "       [-1.19742881]])"
      ]
     },
     "execution_count": 320,
     "metadata": {},
     "output_type": "execute_result"
    }
   ],
   "source": [
    "z_14 = x_14.dot(b)\n",
    "e_14 = y_df - z_14\n",
    "\n",
    "e_14"
   ]
  },
  {
   "cell_type": "code",
   "execution_count": 321,
   "id": "95548216",
   "metadata": {},
   "outputs": [
    {
     "data": {
      "text/plain": [
       "0.4532966783144077"
      ]
     },
     "execution_count": 321,
     "metadata": {},
     "output_type": "execute_result"
    }
   ],
   "source": [
    "R_14 = 1 - sum_of_squares(e_14) / sum_of_squares(y_df)\n",
    "R_14"
   ]
  },
  {
   "cell_type": "code",
   "execution_count": 323,
   "id": "567b3953",
   "metadata": {},
   "outputs": [
    {
     "data": {
      "text/plain": [
       "0.76342462"
      ]
     },
     "execution_count": 323,
     "metadata": {},
     "output_type": "execute_result"
    }
   ],
   "source": [
    "round(max(R_34, R_24, R_14, R_13, R_12, R_23), 8)"
   ]
  },
  {
   "cell_type": "markdown",
   "id": "c50cd9de",
   "metadata": {},
   "source": [
    "Ответ: первый и третий признак"
   ]
  },
  {
   "cell_type": "markdown",
   "id": "310bbcb8",
   "metadata": {},
   "source": [
    "# Задача № 2"
   ]
  },
  {
   "cell_type": "markdown",
   "id": "3c1b3fdc",
   "metadata": {},
   "source": [
    "Является ли значимым уравнение регрессии, полученное в предыдущей задаче? В качестве ответа запишите 1, если является, и 0 иначе."
   ]
  },
  {
   "cell_type": "code",
   "execution_count": 328,
   "id": "53d9aad4",
   "metadata": {},
   "outputs": [],
   "source": [
    "from scipy import stats\n",
    "from matplotlib import pyplot as plt\n",
    "\n",
    "plt.style.use('seaborn-whitegrid')\n",
    "%config InlineBackend.figure_formats = ['svg']"
   ]
  },
  {
   "cell_type": "code",
   "execution_count": 329,
   "id": "100bd65c",
   "metadata": {},
   "outputs": [
    {
     "data": {
      "text/plain": [
       "(2, 7)"
      ]
     },
     "execution_count": 329,
     "metadata": {},
     "output_type": "execute_result"
    }
   ],
   "source": [
    "n = x_13.shape[0]\n",
    "m = x_13.shape[1] - 1\n",
    "\n",
    "k1 = m\n",
    "k2 = n - m - 1\n",
    "\n",
    "k1, k2"
   ]
  },
  {
   "cell_type": "code",
   "execution_count": 330,
   "id": "fc0b0a25",
   "metadata": {},
   "outputs": [
    {
     "data": {
      "text/plain": [
       "4.73741412777588"
      ]
     },
     "execution_count": 330,
     "metadata": {},
     "output_type": "execute_result"
    }
   ],
   "source": [
    "alpha = 0.05\n",
    "\n",
    "t = stats.f.ppf(1 - alpha, k1, k2)\n",
    "t"
   ]
  },
  {
   "cell_type": "code",
   "execution_count": 331,
   "id": "ded6d3aa",
   "metadata": {},
   "outputs": [
    {
     "data": {
      "text/plain": [
       "<matplotlib.collections.PolyCollection at 0x20862762a00>"
      ]
     },
     "execution_count": 331,
     "metadata": {},
     "output_type": "execute_result"
    },
    {
     "data": {
      "image/svg+xml": [
       "<?xml version=\"1.0\" encoding=\"utf-8\" standalone=\"no\"?>\r\n",
       "<!DOCTYPE svg PUBLIC \"-//W3C//DTD SVG 1.1//EN\"\r\n",
       "  \"http://www.w3.org/Graphics/SVG/1.1/DTD/svg11.dtd\">\r\n",
       "<!-- Created with matplotlib (https://matplotlib.org/) -->\r\n",
       "<svg height=\"244.485312pt\" version=\"1.1\" viewBox=\"0 0 366.6 244.485312\" width=\"366.6pt\" xmlns=\"http://www.w3.org/2000/svg\" xmlns:xlink=\"http://www.w3.org/1999/xlink\">\r\n",
       " <metadata>\r\n",
       "  <rdf:RDF xmlns:cc=\"http://creativecommons.org/ns#\" xmlns:dc=\"http://purl.org/dc/elements/1.1/\" xmlns:rdf=\"http://www.w3.org/1999/02/22-rdf-syntax-ns#\">\r\n",
       "   <cc:Work>\r\n",
       "    <dc:type rdf:resource=\"http://purl.org/dc/dcmitype/StillImage\"/>\r\n",
       "    <dc:date>2022-04-06T02:56:18.016575</dc:date>\r\n",
       "    <dc:format>image/svg+xml</dc:format>\r\n",
       "    <dc:creator>\r\n",
       "     <cc:Agent>\r\n",
       "      <dc:title>Matplotlib v3.3.4, https://matplotlib.org/</dc:title>\r\n",
       "     </cc:Agent>\r\n",
       "    </dc:creator>\r\n",
       "   </cc:Work>\r\n",
       "  </rdf:RDF>\r\n",
       " </metadata>\r\n",
       " <defs>\r\n",
       "  <style type=\"text/css\">*{stroke-linecap:butt;stroke-linejoin:round;}</style>\r\n",
       " </defs>\r\n",
       " <g id=\"figure_1\">\r\n",
       "  <g id=\"patch_1\">\r\n",
       "   <path d=\"M 0 244.485312 \r\n",
       "L 366.6 244.485312 \r\n",
       "L 366.6 0 \r\n",
       "L 0 0 \r\n",
       "z\r\n",
       "\" style=\"fill:#ffffff;\"/>\r\n",
       "  </g>\r\n",
       "  <g id=\"axes_1\">\r\n",
       "   <g id=\"patch_2\">\r\n",
       "    <path d=\"M 24.6 224.64 \r\n",
       "L 359.4 224.64 \r\n",
       "L 359.4 7.2 \r\n",
       "L 24.6 7.2 \r\n",
       "z\r\n",
       "\" style=\"fill:#ffffff;\"/>\r\n",
       "   </g>\r\n",
       "   <g id=\"matplotlib.axis_1\">\r\n",
       "    <g id=\"xtick_1\">\r\n",
       "     <g id=\"line2d_1\">\r\n",
       "      <path clip-path=\"url(#p02185290a9)\" d=\"M 39.818182 224.64 \r\n",
       "L 39.818182 7.2 \r\n",
       "\" style=\"fill:none;stroke:#cccccc;stroke-linecap:round;stroke-width:0.8;\"/>\r\n",
       "     </g>\r\n",
       "     <g id=\"line2d_2\"/>\r\n",
       "     <g id=\"text_1\">\r\n",
       "      <!-- 0 -->\r\n",
       "      <g style=\"fill:#262626;\" transform=\"translate(37.037713 235.297812)scale(0.1 -0.1)\">\r\n",
       "       <defs>\r\n",
       "        <path d=\"M 4.15625 35.296875 \r\n",
       "Q 4.15625 48 6.765625 55.734375 \r\n",
       "Q 9.375 63.484375 14.515625 67.671875 \r\n",
       "Q 19.671875 71.875 27.484375 71.875 \r\n",
       "Q 33.25 71.875 37.59375 69.546875 \r\n",
       "Q 41.9375 67.234375 44.765625 62.859375 \r\n",
       "Q 47.609375 58.5 49.21875 52.21875 \r\n",
       "Q 50.828125 45.953125 50.828125 35.296875 \r\n",
       "Q 50.828125 22.703125 48.234375 14.96875 \r\n",
       "Q 45.65625 7.234375 40.5 3 \r\n",
       "Q 35.359375 -1.21875 27.484375 -1.21875 \r\n",
       "Q 17.140625 -1.21875 11.234375 6.203125 \r\n",
       "Q 4.15625 15.140625 4.15625 35.296875 \r\n",
       "z\r\n",
       "M 13.1875 35.296875 \r\n",
       "Q 13.1875 17.671875 17.3125 11.828125 \r\n",
       "Q 21.4375 6 27.484375 6 \r\n",
       "Q 33.546875 6 37.671875 11.859375 \r\n",
       "Q 41.796875 17.71875 41.796875 35.296875 \r\n",
       "Q 41.796875 52.984375 37.671875 58.78125 \r\n",
       "Q 33.546875 64.59375 27.390625 64.59375 \r\n",
       "Q 21.34375 64.59375 17.71875 59.46875 \r\n",
       "Q 13.1875 52.9375 13.1875 35.296875 \r\n",
       "z\r\n",
       "\" id=\"ArialMT-48\"/>\r\n",
       "       </defs>\r\n",
       "       <use xlink:href=\"#ArialMT-48\"/>\r\n",
       "      </g>\r\n",
       "     </g>\r\n",
       "    </g>\r\n",
       "    <g id=\"xtick_2\">\r\n",
       "     <g id=\"line2d_3\">\r\n",
       "      <path clip-path=\"url(#p02185290a9)\" d=\"M 83.298701 224.64 \r\n",
       "L 83.298701 7.2 \r\n",
       "\" style=\"fill:none;stroke:#cccccc;stroke-linecap:round;stroke-width:0.8;\"/>\r\n",
       "     </g>\r\n",
       "     <g id=\"line2d_4\"/>\r\n",
       "     <g id=\"text_2\">\r\n",
       "      <!-- 1 -->\r\n",
       "      <g style=\"fill:#262626;\" transform=\"translate(80.518233 235.297812)scale(0.1 -0.1)\">\r\n",
       "       <defs>\r\n",
       "        <path d=\"M 37.25 0 \r\n",
       "L 28.46875 0 \r\n",
       "L 28.46875 56 \r\n",
       "Q 25.296875 52.984375 20.140625 49.953125 \r\n",
       "Q 14.984375 46.921875 10.890625 45.40625 \r\n",
       "L 10.890625 53.90625 \r\n",
       "Q 18.265625 57.375 23.78125 62.296875 \r\n",
       "Q 29.296875 67.234375 31.59375 71.875 \r\n",
       "L 37.25 71.875 \r\n",
       "z\r\n",
       "\" id=\"ArialMT-49\"/>\r\n",
       "       </defs>\r\n",
       "       <use xlink:href=\"#ArialMT-49\"/>\r\n",
       "      </g>\r\n",
       "     </g>\r\n",
       "    </g>\r\n",
       "    <g id=\"xtick_3\">\r\n",
       "     <g id=\"line2d_5\">\r\n",
       "      <path clip-path=\"url(#p02185290a9)\" d=\"M 126.779221 224.64 \r\n",
       "L 126.779221 7.2 \r\n",
       "\" style=\"fill:none;stroke:#cccccc;stroke-linecap:round;stroke-width:0.8;\"/>\r\n",
       "     </g>\r\n",
       "     <g id=\"line2d_6\"/>\r\n",
       "     <g id=\"text_3\">\r\n",
       "      <!-- 2 -->\r\n",
       "      <g style=\"fill:#262626;\" transform=\"translate(123.998752 235.297812)scale(0.1 -0.1)\">\r\n",
       "       <defs>\r\n",
       "        <path d=\"M 50.34375 8.453125 \r\n",
       "L 50.34375 0 \r\n",
       "L 3.03125 0 \r\n",
       "Q 2.9375 3.171875 4.046875 6.109375 \r\n",
       "Q 5.859375 10.9375 9.828125 15.625 \r\n",
       "Q 13.8125 20.3125 21.34375 26.46875 \r\n",
       "Q 33.015625 36.03125 37.109375 41.625 \r\n",
       "Q 41.21875 47.21875 41.21875 52.203125 \r\n",
       "Q 41.21875 57.421875 37.46875 61 \r\n",
       "Q 33.734375 64.59375 27.734375 64.59375 \r\n",
       "Q 21.390625 64.59375 17.578125 60.78125 \r\n",
       "Q 13.765625 56.984375 13.71875 50.25 \r\n",
       "L 4.6875 51.171875 \r\n",
       "Q 5.609375 61.28125 11.65625 66.578125 \r\n",
       "Q 17.71875 71.875 27.9375 71.875 \r\n",
       "Q 38.234375 71.875 44.234375 66.15625 \r\n",
       "Q 50.25 60.453125 50.25 52 \r\n",
       "Q 50.25 47.703125 48.484375 43.546875 \r\n",
       "Q 46.734375 39.40625 42.65625 34.8125 \r\n",
       "Q 38.578125 30.21875 29.109375 22.21875 \r\n",
       "Q 21.1875 15.578125 18.9375 13.203125 \r\n",
       "Q 16.703125 10.84375 15.234375 8.453125 \r\n",
       "z\r\n",
       "\" id=\"ArialMT-50\"/>\r\n",
       "       </defs>\r\n",
       "       <use xlink:href=\"#ArialMT-50\"/>\r\n",
       "      </g>\r\n",
       "     </g>\r\n",
       "    </g>\r\n",
       "    <g id=\"xtick_4\">\r\n",
       "     <g id=\"line2d_7\">\r\n",
       "      <path clip-path=\"url(#p02185290a9)\" d=\"M 170.25974 224.64 \r\n",
       "L 170.25974 7.2 \r\n",
       "\" style=\"fill:none;stroke:#cccccc;stroke-linecap:round;stroke-width:0.8;\"/>\r\n",
       "     </g>\r\n",
       "     <g id=\"line2d_8\"/>\r\n",
       "     <g id=\"text_4\">\r\n",
       "      <!-- 3 -->\r\n",
       "      <g style=\"fill:#262626;\" transform=\"translate(167.479272 235.297812)scale(0.1 -0.1)\">\r\n",
       "       <defs>\r\n",
       "        <path d=\"M 4.203125 18.890625 \r\n",
       "L 12.984375 20.0625 \r\n",
       "Q 14.5 12.59375 18.140625 9.296875 \r\n",
       "Q 21.78125 6 27 6 \r\n",
       "Q 33.203125 6 37.46875 10.296875 \r\n",
       "Q 41.75 14.59375 41.75 20.953125 \r\n",
       "Q 41.75 27 37.796875 30.921875 \r\n",
       "Q 33.84375 34.859375 27.734375 34.859375 \r\n",
       "Q 25.25 34.859375 21.53125 33.890625 \r\n",
       "L 22.515625 41.609375 \r\n",
       "Q 23.390625 41.5 23.921875 41.5 \r\n",
       "Q 29.546875 41.5 34.03125 44.421875 \r\n",
       "Q 38.53125 47.359375 38.53125 53.46875 \r\n",
       "Q 38.53125 58.296875 35.25 61.46875 \r\n",
       "Q 31.984375 64.65625 26.8125 64.65625 \r\n",
       "Q 21.6875 64.65625 18.265625 61.421875 \r\n",
       "Q 14.84375 58.203125 13.875 51.765625 \r\n",
       "L 5.078125 53.328125 \r\n",
       "Q 6.6875 62.15625 12.390625 67.015625 \r\n",
       "Q 18.109375 71.875 26.609375 71.875 \r\n",
       "Q 32.46875 71.875 37.390625 69.359375 \r\n",
       "Q 42.328125 66.84375 44.9375 62.5 \r\n",
       "Q 47.5625 58.15625 47.5625 53.265625 \r\n",
       "Q 47.5625 48.640625 45.0625 44.828125 \r\n",
       "Q 42.578125 41.015625 37.703125 38.765625 \r\n",
       "Q 44.046875 37.3125 47.5625 32.6875 \r\n",
       "Q 51.078125 28.078125 51.078125 21.140625 \r\n",
       "Q 51.078125 11.765625 44.234375 5.25 \r\n",
       "Q 37.40625 -1.265625 26.953125 -1.265625 \r\n",
       "Q 17.53125 -1.265625 11.296875 4.34375 \r\n",
       "Q 5.078125 9.96875 4.203125 18.890625 \r\n",
       "z\r\n",
       "\" id=\"ArialMT-51\"/>\r\n",
       "       </defs>\r\n",
       "       <use xlink:href=\"#ArialMT-51\"/>\r\n",
       "      </g>\r\n",
       "     </g>\r\n",
       "    </g>\r\n",
       "    <g id=\"xtick_5\">\r\n",
       "     <g id=\"line2d_9\">\r\n",
       "      <path clip-path=\"url(#p02185290a9)\" d=\"M 213.74026 224.64 \r\n",
       "L 213.74026 7.2 \r\n",
       "\" style=\"fill:none;stroke:#cccccc;stroke-linecap:round;stroke-width:0.8;\"/>\r\n",
       "     </g>\r\n",
       "     <g id=\"line2d_10\"/>\r\n",
       "     <g id=\"text_5\">\r\n",
       "      <!-- 4 -->\r\n",
       "      <g style=\"fill:#262626;\" transform=\"translate(210.959791 235.297812)scale(0.1 -0.1)\">\r\n",
       "       <defs>\r\n",
       "        <path d=\"M 32.328125 0 \r\n",
       "L 32.328125 17.140625 \r\n",
       "L 1.265625 17.140625 \r\n",
       "L 1.265625 25.203125 \r\n",
       "L 33.9375 71.578125 \r\n",
       "L 41.109375 71.578125 \r\n",
       "L 41.109375 25.203125 \r\n",
       "L 50.78125 25.203125 \r\n",
       "L 50.78125 17.140625 \r\n",
       "L 41.109375 17.140625 \r\n",
       "L 41.109375 0 \r\n",
       "z\r\n",
       "M 32.328125 25.203125 \r\n",
       "L 32.328125 57.46875 \r\n",
       "L 9.90625 25.203125 \r\n",
       "z\r\n",
       "\" id=\"ArialMT-52\"/>\r\n",
       "       </defs>\r\n",
       "       <use xlink:href=\"#ArialMT-52\"/>\r\n",
       "      </g>\r\n",
       "     </g>\r\n",
       "    </g>\r\n",
       "    <g id=\"xtick_6\">\r\n",
       "     <g id=\"line2d_11\">\r\n",
       "      <path clip-path=\"url(#p02185290a9)\" d=\"M 257.220779 224.64 \r\n",
       "L 257.220779 7.2 \r\n",
       "\" style=\"fill:none;stroke:#cccccc;stroke-linecap:round;stroke-width:0.8;\"/>\r\n",
       "     </g>\r\n",
       "     <g id=\"line2d_12\"/>\r\n",
       "     <g id=\"text_6\">\r\n",
       "      <!-- 5 -->\r\n",
       "      <g style=\"fill:#262626;\" transform=\"translate(254.44031 235.297812)scale(0.1 -0.1)\">\r\n",
       "       <defs>\r\n",
       "        <path d=\"M 4.15625 18.75 \r\n",
       "L 13.375 19.53125 \r\n",
       "Q 14.40625 12.796875 18.140625 9.390625 \r\n",
       "Q 21.875 6 27.15625 6 \r\n",
       "Q 33.5 6 37.890625 10.78125 \r\n",
       "Q 42.28125 15.578125 42.28125 23.484375 \r\n",
       "Q 42.28125 31 38.0625 35.34375 \r\n",
       "Q 33.84375 39.703125 27 39.703125 \r\n",
       "Q 22.75 39.703125 19.328125 37.765625 \r\n",
       "Q 15.921875 35.84375 13.96875 32.765625 \r\n",
       "L 5.71875 33.84375 \r\n",
       "L 12.640625 70.609375 \r\n",
       "L 48.25 70.609375 \r\n",
       "L 48.25 62.203125 \r\n",
       "L 19.671875 62.203125 \r\n",
       "L 15.828125 42.96875 \r\n",
       "Q 22.265625 47.46875 29.34375 47.46875 \r\n",
       "Q 38.71875 47.46875 45.15625 40.96875 \r\n",
       "Q 51.609375 34.46875 51.609375 24.265625 \r\n",
       "Q 51.609375 14.546875 45.953125 7.46875 \r\n",
       "Q 39.0625 -1.21875 27.15625 -1.21875 \r\n",
       "Q 17.390625 -1.21875 11.203125 4.25 \r\n",
       "Q 5.03125 9.71875 4.15625 18.75 \r\n",
       "z\r\n",
       "\" id=\"ArialMT-53\"/>\r\n",
       "       </defs>\r\n",
       "       <use xlink:href=\"#ArialMT-53\"/>\r\n",
       "      </g>\r\n",
       "     </g>\r\n",
       "    </g>\r\n",
       "    <g id=\"xtick_7\">\r\n",
       "     <g id=\"line2d_13\">\r\n",
       "      <path clip-path=\"url(#p02185290a9)\" d=\"M 300.701299 224.64 \r\n",
       "L 300.701299 7.2 \r\n",
       "\" style=\"fill:none;stroke:#cccccc;stroke-linecap:round;stroke-width:0.8;\"/>\r\n",
       "     </g>\r\n",
       "     <g id=\"line2d_14\"/>\r\n",
       "     <g id=\"text_7\">\r\n",
       "      <!-- 6 -->\r\n",
       "      <g style=\"fill:#262626;\" transform=\"translate(297.92083 235.297812)scale(0.1 -0.1)\">\r\n",
       "       <defs>\r\n",
       "        <path d=\"M 49.75 54.046875 \r\n",
       "L 41.015625 53.375 \r\n",
       "Q 39.84375 58.546875 37.703125 60.890625 \r\n",
       "Q 34.125 64.65625 28.90625 64.65625 \r\n",
       "Q 24.703125 64.65625 21.53125 62.3125 \r\n",
       "Q 17.390625 59.28125 14.984375 53.46875 \r\n",
       "Q 12.59375 47.65625 12.5 36.921875 \r\n",
       "Q 15.671875 41.75 20.265625 44.09375 \r\n",
       "Q 24.859375 46.4375 29.890625 46.4375 \r\n",
       "Q 38.671875 46.4375 44.84375 39.96875 \r\n",
       "Q 51.03125 33.5 51.03125 23.25 \r\n",
       "Q 51.03125 16.5 48.125 10.71875 \r\n",
       "Q 45.21875 4.9375 40.140625 1.859375 \r\n",
       "Q 35.0625 -1.21875 28.609375 -1.21875 \r\n",
       "Q 17.625 -1.21875 10.6875 6.859375 \r\n",
       "Q 3.765625 14.9375 3.765625 33.5 \r\n",
       "Q 3.765625 54.25 11.421875 63.671875 \r\n",
       "Q 18.109375 71.875 29.4375 71.875 \r\n",
       "Q 37.890625 71.875 43.28125 67.140625 \r\n",
       "Q 48.6875 62.40625 49.75 54.046875 \r\n",
       "z\r\n",
       "M 13.875 23.1875 \r\n",
       "Q 13.875 18.65625 15.796875 14.5 \r\n",
       "Q 17.71875 10.359375 21.1875 8.171875 \r\n",
       "Q 24.65625 6 28.46875 6 \r\n",
       "Q 34.03125 6 38.03125 10.484375 \r\n",
       "Q 42.046875 14.984375 42.046875 22.703125 \r\n",
       "Q 42.046875 30.125 38.078125 34.390625 \r\n",
       "Q 34.125 38.671875 28.125 38.671875 \r\n",
       "Q 22.171875 38.671875 18.015625 34.390625 \r\n",
       "Q 13.875 30.125 13.875 23.1875 \r\n",
       "z\r\n",
       "\" id=\"ArialMT-54\"/>\r\n",
       "       </defs>\r\n",
       "       <use xlink:href=\"#ArialMT-54\"/>\r\n",
       "      </g>\r\n",
       "     </g>\r\n",
       "    </g>\r\n",
       "    <g id=\"xtick_8\">\r\n",
       "     <g id=\"line2d_15\">\r\n",
       "      <path clip-path=\"url(#p02185290a9)\" d=\"M 344.181818 224.64 \r\n",
       "L 344.181818 7.2 \r\n",
       "\" style=\"fill:none;stroke:#cccccc;stroke-linecap:round;stroke-width:0.8;\"/>\r\n",
       "     </g>\r\n",
       "     <g id=\"line2d_16\"/>\r\n",
       "     <g id=\"text_8\">\r\n",
       "      <!-- 7 -->\r\n",
       "      <g style=\"fill:#262626;\" transform=\"translate(341.401349 235.297812)scale(0.1 -0.1)\">\r\n",
       "       <defs>\r\n",
       "        <path d=\"M 4.734375 62.203125 \r\n",
       "L 4.734375 70.65625 \r\n",
       "L 51.078125 70.65625 \r\n",
       "L 51.078125 63.8125 \r\n",
       "Q 44.234375 56.546875 37.515625 44.484375 \r\n",
       "Q 30.8125 32.421875 27.15625 19.671875 \r\n",
       "Q 24.515625 10.6875 23.78125 0 \r\n",
       "L 14.75 0 \r\n",
       "Q 14.890625 8.453125 18.0625 20.40625 \r\n",
       "Q 21.234375 32.375 27.171875 43.484375 \r\n",
       "Q 33.109375 54.59375 39.796875 62.203125 \r\n",
       "z\r\n",
       "\" id=\"ArialMT-55\"/>\r\n",
       "       </defs>\r\n",
       "       <use xlink:href=\"#ArialMT-55\"/>\r\n",
       "      </g>\r\n",
       "     </g>\r\n",
       "    </g>\r\n",
       "   </g>\r\n",
       "   <g id=\"matplotlib.axis_2\">\r\n",
       "    <g id=\"ytick_1\">\r\n",
       "     <g id=\"line2d_17\">\r\n",
       "      <path clip-path=\"url(#p02185290a9)\" d=\"M 24.6 214.756364 \r\n",
       "L 359.4 214.756364 \r\n",
       "\" style=\"fill:none;stroke:#cccccc;stroke-linecap:round;stroke-width:0.8;\"/>\r\n",
       "     </g>\r\n",
       "     <g id=\"line2d_18\"/>\r\n",
       "     <g id=\"text_9\">\r\n",
       "      <!-- 0.0 -->\r\n",
       "      <g style=\"fill:#262626;\" transform=\"translate(7.2 218.33527)scale(0.1 -0.1)\">\r\n",
       "       <defs>\r\n",
       "        <path d=\"M 9.078125 0 \r\n",
       "L 9.078125 10.015625 \r\n",
       "L 19.09375 10.015625 \r\n",
       "L 19.09375 0 \r\n",
       "z\r\n",
       "\" id=\"ArialMT-46\"/>\r\n",
       "       </defs>\r\n",
       "       <use xlink:href=\"#ArialMT-48\"/>\r\n",
       "       <use x=\"55.615234\" xlink:href=\"#ArialMT-46\"/>\r\n",
       "       <use x=\"83.398438\" xlink:href=\"#ArialMT-48\"/>\r\n",
       "      </g>\r\n",
       "     </g>\r\n",
       "    </g>\r\n",
       "    <g id=\"ytick_2\">\r\n",
       "     <g id=\"line2d_19\">\r\n",
       "      <path clip-path=\"url(#p02185290a9)\" d=\"M 24.6 175.221818 \r\n",
       "L 359.4 175.221818 \r\n",
       "\" style=\"fill:none;stroke:#cccccc;stroke-linecap:round;stroke-width:0.8;\"/>\r\n",
       "     </g>\r\n",
       "     <g id=\"line2d_20\"/>\r\n",
       "     <g id=\"text_10\">\r\n",
       "      <!-- 0.2 -->\r\n",
       "      <g style=\"fill:#262626;\" transform=\"translate(7.2 178.800724)scale(0.1 -0.1)\">\r\n",
       "       <use xlink:href=\"#ArialMT-48\"/>\r\n",
       "       <use x=\"55.615234\" xlink:href=\"#ArialMT-46\"/>\r\n",
       "       <use x=\"83.398438\" xlink:href=\"#ArialMT-50\"/>\r\n",
       "      </g>\r\n",
       "     </g>\r\n",
       "    </g>\r\n",
       "    <g id=\"ytick_3\">\r\n",
       "     <g id=\"line2d_21\">\r\n",
       "      <path clip-path=\"url(#p02185290a9)\" d=\"M 24.6 135.687273 \r\n",
       "L 359.4 135.687273 \r\n",
       "\" style=\"fill:none;stroke:#cccccc;stroke-linecap:round;stroke-width:0.8;\"/>\r\n",
       "     </g>\r\n",
       "     <g id=\"line2d_22\"/>\r\n",
       "     <g id=\"text_11\">\r\n",
       "      <!-- 0.4 -->\r\n",
       "      <g style=\"fill:#262626;\" transform=\"translate(7.2 139.266179)scale(0.1 -0.1)\">\r\n",
       "       <use xlink:href=\"#ArialMT-48\"/>\r\n",
       "       <use x=\"55.615234\" xlink:href=\"#ArialMT-46\"/>\r\n",
       "       <use x=\"83.398438\" xlink:href=\"#ArialMT-52\"/>\r\n",
       "      </g>\r\n",
       "     </g>\r\n",
       "    </g>\r\n",
       "    <g id=\"ytick_4\">\r\n",
       "     <g id=\"line2d_23\">\r\n",
       "      <path clip-path=\"url(#p02185290a9)\" d=\"M 24.6 96.152727 \r\n",
       "L 359.4 96.152727 \r\n",
       "\" style=\"fill:none;stroke:#cccccc;stroke-linecap:round;stroke-width:0.8;\"/>\r\n",
       "     </g>\r\n",
       "     <g id=\"line2d_24\"/>\r\n",
       "     <g id=\"text_12\">\r\n",
       "      <!-- 0.6 -->\r\n",
       "      <g style=\"fill:#262626;\" transform=\"translate(7.2 99.731634)scale(0.1 -0.1)\">\r\n",
       "       <use xlink:href=\"#ArialMT-48\"/>\r\n",
       "       <use x=\"55.615234\" xlink:href=\"#ArialMT-46\"/>\r\n",
       "       <use x=\"83.398438\" xlink:href=\"#ArialMT-54\"/>\r\n",
       "      </g>\r\n",
       "     </g>\r\n",
       "    </g>\r\n",
       "    <g id=\"ytick_5\">\r\n",
       "     <g id=\"line2d_25\">\r\n",
       "      <path clip-path=\"url(#p02185290a9)\" d=\"M 24.6 56.618182 \r\n",
       "L 359.4 56.618182 \r\n",
       "\" style=\"fill:none;stroke:#cccccc;stroke-linecap:round;stroke-width:0.8;\"/>\r\n",
       "     </g>\r\n",
       "     <g id=\"line2d_26\"/>\r\n",
       "     <g id=\"text_13\">\r\n",
       "      <!-- 0.8 -->\r\n",
       "      <g style=\"fill:#262626;\" transform=\"translate(7.2 60.197088)scale(0.1 -0.1)\">\r\n",
       "       <defs>\r\n",
       "        <path d=\"M 17.671875 38.8125 \r\n",
       "Q 12.203125 40.828125 9.5625 44.53125 \r\n",
       "Q 6.9375 48.25 6.9375 53.421875 \r\n",
       "Q 6.9375 61.234375 12.546875 66.546875 \r\n",
       "Q 18.171875 71.875 27.484375 71.875 \r\n",
       "Q 36.859375 71.875 42.578125 66.421875 \r\n",
       "Q 48.296875 60.984375 48.296875 53.171875 \r\n",
       "Q 48.296875 48.1875 45.671875 44.5 \r\n",
       "Q 43.0625 40.828125 37.75 38.8125 \r\n",
       "Q 44.34375 36.671875 47.78125 31.875 \r\n",
       "Q 51.21875 27.09375 51.21875 20.453125 \r\n",
       "Q 51.21875 11.28125 44.71875 5.03125 \r\n",
       "Q 38.234375 -1.21875 27.640625 -1.21875 \r\n",
       "Q 17.046875 -1.21875 10.546875 5.046875 \r\n",
       "Q 4.046875 11.328125 4.046875 20.703125 \r\n",
       "Q 4.046875 27.6875 7.59375 32.390625 \r\n",
       "Q 11.140625 37.109375 17.671875 38.8125 \r\n",
       "z\r\n",
       "M 15.921875 53.71875 \r\n",
       "Q 15.921875 48.640625 19.1875 45.40625 \r\n",
       "Q 22.46875 42.1875 27.6875 42.1875 \r\n",
       "Q 32.765625 42.1875 36.015625 45.375 \r\n",
       "Q 39.265625 48.578125 39.265625 53.21875 \r\n",
       "Q 39.265625 58.0625 35.90625 61.359375 \r\n",
       "Q 32.5625 64.65625 27.59375 64.65625 \r\n",
       "Q 22.5625 64.65625 19.234375 61.421875 \r\n",
       "Q 15.921875 58.203125 15.921875 53.71875 \r\n",
       "z\r\n",
       "M 13.09375 20.65625 \r\n",
       "Q 13.09375 16.890625 14.875 13.375 \r\n",
       "Q 16.65625 9.859375 20.171875 7.921875 \r\n",
       "Q 23.6875 6 27.734375 6 \r\n",
       "Q 34.03125 6 38.125 10.046875 \r\n",
       "Q 42.234375 14.109375 42.234375 20.359375 \r\n",
       "Q 42.234375 26.703125 38.015625 30.859375 \r\n",
       "Q 33.796875 35.015625 27.4375 35.015625 \r\n",
       "Q 21.234375 35.015625 17.15625 30.90625 \r\n",
       "Q 13.09375 26.8125 13.09375 20.65625 \r\n",
       "z\r\n",
       "\" id=\"ArialMT-56\"/>\r\n",
       "       </defs>\r\n",
       "       <use xlink:href=\"#ArialMT-48\"/>\r\n",
       "       <use x=\"55.615234\" xlink:href=\"#ArialMT-46\"/>\r\n",
       "       <use x=\"83.398438\" xlink:href=\"#ArialMT-56\"/>\r\n",
       "      </g>\r\n",
       "     </g>\r\n",
       "    </g>\r\n",
       "    <g id=\"ytick_6\">\r\n",
       "     <g id=\"line2d_27\">\r\n",
       "      <path clip-path=\"url(#p02185290a9)\" d=\"M 24.6 17.083636 \r\n",
       "L 359.4 17.083636 \r\n",
       "\" style=\"fill:none;stroke:#cccccc;stroke-linecap:round;stroke-width:0.8;\"/>\r\n",
       "     </g>\r\n",
       "     <g id=\"line2d_28\"/>\r\n",
       "     <g id=\"text_14\">\r\n",
       "      <!-- 1.0 -->\r\n",
       "      <g style=\"fill:#262626;\" transform=\"translate(7.2 20.662543)scale(0.1 -0.1)\">\r\n",
       "       <use xlink:href=\"#ArialMT-49\"/>\r\n",
       "       <use x=\"55.615234\" xlink:href=\"#ArialMT-46\"/>\r\n",
       "       <use x=\"83.398438\" xlink:href=\"#ArialMT-48\"/>\r\n",
       "      </g>\r\n",
       "     </g>\r\n",
       "    </g>\r\n",
       "   </g>\r\n",
       "   <g id=\"PolyCollection_1\">\r\n",
       "    <path clip-path=\"url(#p02185290a9)\" d=\"M 245.803409 214.756364 \r\n",
       "L 245.803409 210.556899 \r\n",
       "L 246.79713 210.608932 \r\n",
       "L 247.790852 210.660179 \r\n",
       "L 248.784573 210.710655 \r\n",
       "L 249.778294 210.760372 \r\n",
       "L 250.772016 210.809345 \r\n",
       "L 251.765737 210.857586 \r\n",
       "L 252.759458 210.905108 \r\n",
       "L 253.75318 210.951924 \r\n",
       "L 254.746901 210.998047 \r\n",
       "L 255.740622 211.043488 \r\n",
       "L 256.734343 211.088259 \r\n",
       "L 257.728065 211.132372 \r\n",
       "L 258.721786 211.175839 \r\n",
       "L 259.715507 211.21867 \r\n",
       "L 260.709229 211.260876 \r\n",
       "L 261.70295 211.302469 \r\n",
       "L 262.696671 211.343458 \r\n",
       "L 263.690393 211.383855 \r\n",
       "L 264.684114 211.423668 \r\n",
       "L 265.677835 211.462909 \r\n",
       "L 266.671556 211.501586 \r\n",
       "L 267.665278 211.53971 \r\n",
       "L 268.658999 211.577289 \r\n",
       "L 269.65272 211.614333 \r\n",
       "L 270.646442 211.650851 \r\n",
       "L 271.640163 211.686851 \r\n",
       "L 272.633884 211.722343 \r\n",
       "L 273.627606 211.757335 \r\n",
       "L 274.621327 211.791834 \r\n",
       "L 275.615048 211.82585 \r\n",
       "L 276.60877 211.859389 \r\n",
       "L 277.602491 211.892461 \r\n",
       "L 278.596212 211.925073 \r\n",
       "L 279.589933 211.957231 \r\n",
       "L 280.583655 211.988945 \r\n",
       "L 281.577376 212.02022 \r\n",
       "L 282.571097 212.051065 \r\n",
       "L 283.564819 212.081486 \r\n",
       "L 284.55854 212.111489 \r\n",
       "L 285.552261 212.141082 \r\n",
       "L 286.545983 212.170272 \r\n",
       "L 287.539704 212.199064 \r\n",
       "L 288.533425 212.227466 \r\n",
       "L 289.527146 212.255483 \r\n",
       "L 290.520868 212.283121 \r\n",
       "L 291.514589 212.310387 \r\n",
       "L 292.50831 212.337287 \r\n",
       "L 293.502032 212.363826 \r\n",
       "L 294.495753 212.39001 \r\n",
       "L 295.489474 212.415844 \r\n",
       "L 296.483196 212.441335 \r\n",
       "L 297.476917 212.466487 \r\n",
       "L 298.470638 212.491306 \r\n",
       "L 299.46436 212.515797 \r\n",
       "L 300.458081 212.539965 \r\n",
       "L 301.451802 212.563816 \r\n",
       "L 302.445523 212.587353 \r\n",
       "L 303.439245 212.610582 \r\n",
       "L 304.432966 212.633508 \r\n",
       "L 305.426687 212.656135 \r\n",
       "L 306.420409 212.678468 \r\n",
       "L 307.41413 212.700512 \r\n",
       "L 308.407851 212.72227 \r\n",
       "L 309.401573 212.743748 \r\n",
       "L 310.395294 212.764949 \r\n",
       "L 311.389015 212.785878 \r\n",
       "L 312.382736 212.806539 \r\n",
       "L 313.376458 212.826935 \r\n",
       "L 314.370179 212.847071 \r\n",
       "L 315.3639 212.866951 \r\n",
       "L 316.357622 212.886579 \r\n",
       "L 317.351343 212.905958 \r\n",
       "L 318.345064 212.925092 \r\n",
       "L 319.338786 212.943985 \r\n",
       "L 320.332507 212.96264 \r\n",
       "L 321.326228 212.981061 \r\n",
       "L 322.319949 212.999251 \r\n",
       "L 323.313671 213.017214 \r\n",
       "L 324.307392 213.034953 \r\n",
       "L 325.301113 213.052471 \r\n",
       "L 326.294835 213.069772 \r\n",
       "L 327.288556 213.086859 \r\n",
       "L 328.282277 213.103735 \r\n",
       "L 329.275999 213.120402 \r\n",
       "L 330.26972 213.136865 \r\n",
       "L 331.263441 213.153126 \r\n",
       "L 332.257163 213.169187 \r\n",
       "L 333.250884 213.185052 \r\n",
       "L 334.244605 213.200724 \r\n",
       "L 335.238326 213.216206 \r\n",
       "L 336.232048 213.231499 \r\n",
       "L 337.225769 213.246607 \r\n",
       "L 338.21949 213.261533 \r\n",
       "L 339.213212 213.276278 \r\n",
       "L 340.206933 213.290847 \r\n",
       "L 341.200654 213.30524 \r\n",
       "L 342.194376 213.319461 \r\n",
       "L 343.188097 213.333512 \r\n",
       "L 344.181818 213.347396 \r\n",
       "L 344.181818 214.756364 \r\n",
       "L 344.181818 214.756364 \r\n",
       "L 343.188097 214.756364 \r\n",
       "L 342.194376 214.756364 \r\n",
       "L 341.200654 214.756364 \r\n",
       "L 340.206933 214.756364 \r\n",
       "L 339.213212 214.756364 \r\n",
       "L 338.21949 214.756364 \r\n",
       "L 337.225769 214.756364 \r\n",
       "L 336.232048 214.756364 \r\n",
       "L 335.238326 214.756364 \r\n",
       "L 334.244605 214.756364 \r\n",
       "L 333.250884 214.756364 \r\n",
       "L 332.257163 214.756364 \r\n",
       "L 331.263441 214.756364 \r\n",
       "L 330.26972 214.756364 \r\n",
       "L 329.275999 214.756364 \r\n",
       "L 328.282277 214.756364 \r\n",
       "L 327.288556 214.756364 \r\n",
       "L 326.294835 214.756364 \r\n",
       "L 325.301113 214.756364 \r\n",
       "L 324.307392 214.756364 \r\n",
       "L 323.313671 214.756364 \r\n",
       "L 322.319949 214.756364 \r\n",
       "L 321.326228 214.756364 \r\n",
       "L 320.332507 214.756364 \r\n",
       "L 319.338786 214.756364 \r\n",
       "L 318.345064 214.756364 \r\n",
       "L 317.351343 214.756364 \r\n",
       "L 316.357622 214.756364 \r\n",
       "L 315.3639 214.756364 \r\n",
       "L 314.370179 214.756364 \r\n",
       "L 313.376458 214.756364 \r\n",
       "L 312.382736 214.756364 \r\n",
       "L 311.389015 214.756364 \r\n",
       "L 310.395294 214.756364 \r\n",
       "L 309.401573 214.756364 \r\n",
       "L 308.407851 214.756364 \r\n",
       "L 307.41413 214.756364 \r\n",
       "L 306.420409 214.756364 \r\n",
       "L 305.426687 214.756364 \r\n",
       "L 304.432966 214.756364 \r\n",
       "L 303.439245 214.756364 \r\n",
       "L 302.445523 214.756364 \r\n",
       "L 301.451802 214.756364 \r\n",
       "L 300.458081 214.756364 \r\n",
       "L 299.46436 214.756364 \r\n",
       "L 298.470638 214.756364 \r\n",
       "L 297.476917 214.756364 \r\n",
       "L 296.483196 214.756364 \r\n",
       "L 295.489474 214.756364 \r\n",
       "L 294.495753 214.756364 \r\n",
       "L 293.502032 214.756364 \r\n",
       "L 292.50831 214.756364 \r\n",
       "L 291.514589 214.756364 \r\n",
       "L 290.520868 214.756364 \r\n",
       "L 289.527146 214.756364 \r\n",
       "L 288.533425 214.756364 \r\n",
       "L 287.539704 214.756364 \r\n",
       "L 286.545983 214.756364 \r\n",
       "L 285.552261 214.756364 \r\n",
       "L 284.55854 214.756364 \r\n",
       "L 283.564819 214.756364 \r\n",
       "L 282.571097 214.756364 \r\n",
       "L 281.577376 214.756364 \r\n",
       "L 280.583655 214.756364 \r\n",
       "L 279.589933 214.756364 \r\n",
       "L 278.596212 214.756364 \r\n",
       "L 277.602491 214.756364 \r\n",
       "L 276.60877 214.756364 \r\n",
       "L 275.615048 214.756364 \r\n",
       "L 274.621327 214.756364 \r\n",
       "L 273.627606 214.756364 \r\n",
       "L 272.633884 214.756364 \r\n",
       "L 271.640163 214.756364 \r\n",
       "L 270.646442 214.756364 \r\n",
       "L 269.65272 214.756364 \r\n",
       "L 268.658999 214.756364 \r\n",
       "L 267.665278 214.756364 \r\n",
       "L 266.671556 214.756364 \r\n",
       "L 265.677835 214.756364 \r\n",
       "L 264.684114 214.756364 \r\n",
       "L 263.690393 214.756364 \r\n",
       "L 262.696671 214.756364 \r\n",
       "L 261.70295 214.756364 \r\n",
       "L 260.709229 214.756364 \r\n",
       "L 259.715507 214.756364 \r\n",
       "L 258.721786 214.756364 \r\n",
       "L 257.728065 214.756364 \r\n",
       "L 256.734343 214.756364 \r\n",
       "L 255.740622 214.756364 \r\n",
       "L 254.746901 214.756364 \r\n",
       "L 253.75318 214.756364 \r\n",
       "L 252.759458 214.756364 \r\n",
       "L 251.765737 214.756364 \r\n",
       "L 250.772016 214.756364 \r\n",
       "L 249.778294 214.756364 \r\n",
       "L 248.784573 214.756364 \r\n",
       "L 247.790852 214.756364 \r\n",
       "L 246.79713 214.756364 \r\n",
       "L 245.803409 214.756364 \r\n",
       "z\r\n",
       "\" style=\"fill:#1f77b4;fill-opacity:0.5;\"/>\r\n",
       "   </g>\r\n",
       "   <g id=\"line2d_29\">\r\n",
       "    <path clip-path=\"url(#p02185290a9)\" d=\"M 39.818182 17.083636 \r\n",
       "L 42.25797 30.737056 \r\n",
       "L 44.697759 43.255355 \r\n",
       "L 47.137548 54.748396 \r\n",
       "L 49.577336 65.313953 \r\n",
       "L 52.017125 75.039198 \r\n",
       "L 54.456914 84.001985 \r\n",
       "L 56.896702 92.271962 \r\n",
       "L 59.336491 99.911538 \r\n",
       "L 62.386227 108.659289 \r\n",
       "L 65.435963 116.606271 \r\n",
       "L 68.485699 123.83769 \r\n",
       "L 71.535435 130.42846 \r\n",
       "L 74.58517 136.444587 \r\n",
       "L 77.634906 141.944357 \r\n",
       "L 80.684642 146.979337 \r\n",
       "L 83.734378 151.595242 \r\n",
       "L 86.784114 155.832679 \r\n",
       "L 89.83385 159.72778 \r\n",
       "L 92.883585 163.312756 \r\n",
       "L 96.543268 167.245641 \r\n",
       "L 100.202951 170.817208 \r\n",
       "L 103.862634 174.066039 \r\n",
       "L 107.522317 177.026041 \r\n",
       "L 111.182 179.727075 \r\n",
       "L 115.451631 182.585961 \r\n",
       "L 119.721261 185.164777 \r\n",
       "L 123.990891 187.495378 \r\n",
       "L 128.870468 189.890415 \r\n",
       "L 133.750046 192.033226 \r\n",
       "L 139.23957 194.180577 \r\n",
       "L 144.729095 196.085039 \r\n",
       "L 150.828566 197.954764 \r\n",
       "L 156.928038 199.600662 \r\n",
       "L 163.637457 201.189464 \r\n",
       "L 170.956823 202.696886 \r\n",
       "L 178.886136 204.105519 \r\n",
       "L 187.425396 205.40428 \r\n",
       "L 197.184551 206.659776 \r\n",
       "L 208.1636 207.835075 \r\n",
       "L 220.362543 208.905933 \r\n",
       "L 233.781381 209.859502 \r\n",
       "L 249.640007 210.753498 \r\n",
       "L 267.938422 211.550093 \r\n",
       "L 289.286573 212.248735 \r\n",
       "L 314.904354 212.857789 \r\n",
       "L 344.181818 213.347396 \r\n",
       "L 344.181818 213.347396 \r\n",
       "\" style=\"fill:none;stroke:#1f77b4;stroke-linecap:round;stroke-width:1.5;\"/>\r\n",
       "   </g>\r\n",
       "   <g id=\"patch_3\">\r\n",
       "    <path d=\"M 24.6 224.64 \r\n",
       "L 24.6 7.2 \r\n",
       "\" style=\"fill:none;stroke:#cccccc;stroke-linecap:square;stroke-linejoin:miter;\"/>\r\n",
       "   </g>\r\n",
       "   <g id=\"patch_4\">\r\n",
       "    <path d=\"M 359.4 224.64 \r\n",
       "L 359.4 7.2 \r\n",
       "\" style=\"fill:none;stroke:#cccccc;stroke-linecap:square;stroke-linejoin:miter;\"/>\r\n",
       "   </g>\r\n",
       "   <g id=\"patch_5\">\r\n",
       "    <path d=\"M 24.6 224.64 \r\n",
       "L 359.4 224.64 \r\n",
       "\" style=\"fill:none;stroke:#cccccc;stroke-linecap:square;stroke-linejoin:miter;\"/>\r\n",
       "   </g>\r\n",
       "   <g id=\"patch_6\">\r\n",
       "    <path d=\"M 24.6 7.2 \r\n",
       "L 359.4 7.2 \r\n",
       "\" style=\"fill:none;stroke:#cccccc;stroke-linecap:square;stroke-linejoin:miter;\"/>\r\n",
       "   </g>\r\n",
       "  </g>\r\n",
       " </g>\r\n",
       " <defs>\r\n",
       "  <clipPath id=\"p02185290a9\">\r\n",
       "   <rect height=\"217.44\" width=\"334.8\" x=\"24.6\" y=\"7.2\"/>\r\n",
       "  </clipPath>\r\n",
       " </defs>\r\n",
       "</svg>\r\n"
      ],
      "text/plain": [
       "<Figure size 432x288 with 1 Axes>"
      ]
     },
     "metadata": {},
     "output_type": "display_data"
    }
   ],
   "source": [
    "ox = np.linspace(0, 7, 500)\n",
    "oy = stats.f.pdf(ox, k1, k2)\n",
    "\n",
    "ox_right = np.linspace(t, 7, 100)\n",
    "oy_right = stats.f.pdf(ox_right, k1, k2)\n",
    "\n",
    "plt.plot(ox, oy)\n",
    "plt.fill_between(ox_right, oy_right, alpha=0.5)"
   ]
  },
  {
   "cell_type": "code",
   "execution_count": 333,
   "id": "925d7054",
   "metadata": {},
   "outputs": [
    {
     "data": {
      "text/plain": [
       "11.294439122922636"
      ]
     },
     "execution_count": 333,
     "metadata": {},
     "output_type": "execute_result"
    }
   ],
   "source": [
    "F = (R_13 / k1) / ((1 - R_13) / k2)\n",
    "F"
   ]
  },
  {
   "cell_type": "markdown",
   "id": "26f4e698",
   "metadata": {},
   "source": [
    "Ответ: 1. \n",
    "\n",
    "Так как статистика попадает в критическую область, то уравнение признается значимым"
   ]
  },
  {
   "cell_type": "markdown",
   "id": "deaa5d35",
   "metadata": {},
   "source": [
    "# Задача № 3"
   ]
  },
  {
   "cell_type": "markdown",
   "id": "623cc623",
   "metadata": {},
   "source": [
    "Для проведения A/B-тестирования сайта интернет-магазина были получены следующие данные:\n",
    "\n",
    "страница `A` была посещена 2509 раз, из них 77 закончились совершением покупки,\n",
    "\n",
    "страница `B` была посещена 1465 раз, 60 из них закончились совершением покупки.\n",
    "\n",
    "Является ли значимым отличие конверсии на страницах `A` и `B`? \n",
    "\n",
    "В качестве ответа запишите 1, если является, и 0 иначе."
   ]
  },
  {
   "cell_type": "markdown",
   "id": "8f2a2a3c",
   "metadata": {},
   "source": [
    "Предположим, что отличие конверсии не является значимым на страницах А И Б (грубо говоря значения взяты из одной генеральной выборки)"
   ]
  },
  {
   "cell_type": "code",
   "execution_count": 339,
   "id": "f01394e6",
   "metadata": {},
   "outputs": [],
   "source": [
    "n_a = 2509\n",
    "n_b = 1465\n",
    "\n",
    "con_a = 77 / 2509\n",
    "con_b = 60 / 1465\n",
    "m_a = 0.5\n",
    "m_b = 0.5"
   ]
  },
  {
   "cell_type": "markdown",
   "id": "192c993a",
   "metadata": {},
   "source": [
    "мат ожидание равно 0,5, либо будет покупка либо нет. Отсюда D(x) = 0.25. Дисперсии для каждой из выборок равны"
   ]
  },
  {
   "cell_type": "code",
   "execution_count": 340,
   "id": "0d049828",
   "metadata": {},
   "outputs": [],
   "source": [
    "s1 = 0.25\n",
    "s2 = 0.25"
   ]
  },
  {
   "cell_type": "code",
   "execution_count": 342,
   "id": "c0fb870c",
   "metadata": {},
   "outputs": [
    {
     "data": {
      "text/plain": [
       "0.008220245670218111"
      ]
     },
     "execution_count": 342,
     "metadata": {},
     "output_type": "execute_result"
    }
   ],
   "source": [
    "s_delta = np.sqrt(s1 ** 2 / n_a + s2 ** 2 / n_b)\n",
    "s_delta"
   ]
  },
  {
   "cell_type": "code",
   "execution_count": 343,
   "id": "ce942d61",
   "metadata": {},
   "outputs": [
    {
     "data": {
      "text/plain": [
       "-1.2488816119403339"
      ]
     },
     "execution_count": 343,
     "metadata": {},
     "output_type": "execute_result"
    }
   ],
   "source": [
    "t = (con_a - con_b) / s_delta\n",
    "\n",
    "t"
   ]
  },
  {
   "cell_type": "code",
   "execution_count": 344,
   "id": "0cae2124",
   "metadata": {},
   "outputs": [
    {
     "data": {
      "text/plain": [
       "3063.166387325311"
      ]
     },
     "execution_count": 344,
     "metadata": {},
     "output_type": "execute_result"
    }
   ],
   "source": [
    "df = (s1 ** 2 / n_a + s2 ** 2 / n_b) ** 2 / \\\n",
    "    ((s1 ** 2 / n_a) ** 2 / (n_a - 1) + (s2 ** 2 / n_b) ** 2 / (n_b - 1))\n",
    "\n",
    "df"
   ]
  },
  {
   "cell_type": "code",
   "execution_count": 345,
   "id": "1b38c61e",
   "metadata": {},
   "outputs": [
    {
     "data": {
      "text/plain": [
       "(-1.9607387360991815, 1.960738736099181)"
      ]
     },
     "execution_count": 345,
     "metadata": {},
     "output_type": "execute_result"
    }
   ],
   "source": [
    "alpha = 0.05\n",
    "\n",
    "t1 = stats.t.ppf(alpha / 2, df=df)\n",
    "t2 = stats.t.ppf(1 - alpha / 2, df=df)\n",
    "\n",
    "t1, t2"
   ]
  },
  {
   "cell_type": "markdown",
   "id": "3ab7ed9a",
   "metadata": {},
   "source": [
    "значение статистика не попало в критическую область следовательно мы принимаем тот факт, что отличие конверсии не является значимым"
   ]
  },
  {
   "cell_type": "markdown",
   "id": "18575cbd",
   "metadata": {},
   "source": [
    "Ответ: 0"
   ]
  }
 ],
 "metadata": {
  "kernelspec": {
   "display_name": "Python 3",
   "language": "python",
   "name": "python3"
  },
  "language_info": {
   "codemirror_mode": {
    "name": "ipython",
    "version": 3
   },
   "file_extension": ".py",
   "mimetype": "text/x-python",
   "name": "python",
   "nbconvert_exporter": "python",
   "pygments_lexer": "ipython3",
   "version": "3.8.8"
  }
 },
 "nbformat": 4,
 "nbformat_minor": 5
}
