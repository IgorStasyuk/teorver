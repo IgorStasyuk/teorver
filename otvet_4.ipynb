{
 "cells": [
  {
   "cell_type": "markdown",
   "id": "5e6be266",
   "metadata": {},
   "source": [
    "# Задача № 1"
   ]
  },
  {
   "cell_type": "markdown",
   "id": "46e66649",
   "metadata": {},
   "source": [
    "Случайная непрерывная величина A имеет равномерное распределение на промежутке (200, 800].\n",
    "\n",
    "Найдите ее среднее значение и дисперсию."
   ]
  },
  {
   "cell_type": "markdown",
   "id": "47b5f7c8",
   "metadata": {},
   "source": [
    "Среднее значение - это по сути мат ожидание: M(X) = (A+B)/2, дисперсия: ((B-A) ** 2) / 12"
   ]
  },
  {
   "cell_type": "code",
   "execution_count": 1,
   "id": "c4c95b13",
   "metadata": {},
   "outputs": [
    {
     "data": {
      "text/plain": [
       "(500.0, 30000.0)"
      ]
     },
     "execution_count": 1,
     "metadata": {},
     "output_type": "execute_result"
    }
   ],
   "source": [
    "m_x = (800 + 200) / 2\n",
    "d_x = ((800 - 200) ** 2) / 12\n",
    "m_x, d_x"
   ]
  },
  {
   "cell_type": "markdown",
   "id": "a769ab3c",
   "metadata": {},
   "source": [
    "Ответ: M(X) = 500, D(X) = 30000"
   ]
  },
  {
   "cell_type": "markdown",
   "id": "3d27fbc1",
   "metadata": {},
   "source": [
    "# Задача № 2"
   ]
  },
  {
   "cell_type": "markdown",
   "id": "d365e77a",
   "metadata": {},
   "source": [
    "О случайной непрерывной равномерно распределенной величине B известно, что ее дисперсия равна 0.2.\n",
    "\n",
    "Можно ли найти правую границу величины B и ее среднее значение зная, что левая граница равна 0.5?\n",
    "\n",
    "Если да, найдите ее."
   ]
  },
  {
   "cell_type": "code",
   "execution_count": 4,
   "id": "ac0bcc81",
   "metadata": {},
   "outputs": [
    {
     "data": {
      "text/plain": [
       "(1.7000000000000002, 1.1)"
      ]
     },
     "execution_count": 4,
     "metadata": {},
     "output_type": "execute_result"
    }
   ],
   "source": [
    "b = (12*0.2) ** 1/2 + 0.5\n",
    "m_x = (b + 0.5) / 2\n",
    "b, m_x"
   ]
  },
  {
   "cell_type": "markdown",
   "id": "eb7d29cd",
   "metadata": {},
   "source": [
    "Ответ: M(x) = 1.1, b = 1.7"
   ]
  },
  {
   "cell_type": "markdown",
   "id": "bd57957c",
   "metadata": {},
   "source": [
    "# Задача № 3"
   ]
  },
  {
   "cell_type": "markdown",
   "id": "15394304",
   "metadata": {},
   "source": [
    "Непрерывная случайная величина X распределена нормально и задана плотностью распределения\n",
    "\n",
    "f(x) = (1 / (4 * sqrt(2*pi))) * (exp(-(x+2)**2) / 32).\n",
    "\n",
    "Найдите:\n",
    "\n",
    "а). M(X)\n",
    "\n",
    "б). D(X)\n",
    "\n",
    "в). std(X) (среднее квадратичное отклонение)"
   ]
  },
  {
   "cell_type": "markdown",
   "id": "78257d80",
   "metadata": {},
   "source": [
    "из условия видно, что сигма = 4 (пункт в)), отсюда D(X) = 16 (пункт б)), М(X) = -2 (пункт а)) - все данные берем из уравнения плотности распределения"
   ]
  },
  {
   "cell_type": "markdown",
   "id": "e863db93",
   "metadata": {},
   "source": [
    "Ответ: а) -2, б) 16, в) 4"
   ]
  },
  {
   "cell_type": "markdown",
   "id": "9f191748",
   "metadata": {},
   "source": [
    "# Задача № 4"
   ]
  },
  {
   "cell_type": "markdown",
   "id": "eb60d996",
   "metadata": {},
   "source": [
    "Рост взрослого населения города X имеет нормальное распределение.\n",
    "\n",
    "Причем, средний рост равен 174 см, а среднее квадратичное отклонение равно 8 см.\n",
    "\n",
    "Какова вероятность того, что случайным образом выбранный взрослый человек имеет рост:\n",
    "\n",
    "а). больше 182 см\n",
    "\n",
    "б). больше 190 см\n",
    "\n",
    "в). от 166 см до 190 см\n",
    "\n",
    "г). от 166 см до 182 см\n",
    "\n",
    "д). от 158 см до 190 см\n",
    "\n",
    "е). не выше 150 см или не ниже 190 см\n",
    "\n",
    "ё). не выше 150 см или не ниже 198 см\n",
    "\n",
    "ж). ниже 166 см."
   ]
  },
  {
   "cell_type": "markdown",
   "id": "6964cf35",
   "metadata": {},
   "source": [
    "Решение:\n",
    "\n",
    "запишем вводные: M(X) = 174, sigma = 8, D(X) = 64"
   ]
  },
  {
   "cell_type": "code",
   "execution_count": 27,
   "id": "ba271dea",
   "metadata": {},
   "outputs": [],
   "source": [
    "import pandas as pd\n",
    "import numpy as np\n",
    "from scipy import stats"
   ]
  },
  {
   "cell_type": "code",
   "execution_count": 28,
   "id": "1f750279",
   "metadata": {},
   "outputs": [],
   "source": [
    "loc = 174\n",
    "scale = 8"
   ]
  },
  {
   "cell_type": "code",
   "execution_count": 29,
   "id": "e8118cac",
   "metadata": {},
   "outputs": [
    {
     "data": {
      "text/plain": [
       "<scipy.stats._distn_infrastructure.rv_frozen at 0x203e4e9bf10>"
      ]
     },
     "execution_count": 29,
     "metadata": {},
     "output_type": "execute_result"
    }
   ],
   "source": [
    "norm = stats.norm(loc, scale)\n",
    "norm"
   ]
  },
  {
   "cell_type": "code",
   "execution_count": 30,
   "id": "2451b74e",
   "metadata": {},
   "outputs": [
    {
     "data": {
      "text/plain": [
       "0.15865525393145707"
      ]
     },
     "execution_count": 30,
     "metadata": {},
     "output_type": "execute_result"
    }
   ],
   "source": [
    "norm_1 = 1 - norm.cdf(182)\n",
    "norm_1"
   ]
  },
  {
   "cell_type": "code",
   "execution_count": 31,
   "id": "82d56188",
   "metadata": {},
   "outputs": [
    {
     "data": {
      "text/plain": [
       "0.02275013194817921"
      ]
     },
     "execution_count": 31,
     "metadata": {},
     "output_type": "execute_result"
    }
   ],
   "source": [
    "norm_2 = 1- norm.cdf(190)\n",
    "norm_2"
   ]
  },
  {
   "cell_type": "code",
   "execution_count": 33,
   "id": "c35568da",
   "metadata": {},
   "outputs": [
    {
     "data": {
      "text/plain": [
       "0.8185946141203637"
      ]
     },
     "execution_count": 33,
     "metadata": {},
     "output_type": "execute_result"
    }
   ],
   "source": [
    "norm_3 = norm.cdf(190) - norm.cdf(166)\n",
    "norm_3"
   ]
  },
  {
   "cell_type": "code",
   "execution_count": 34,
   "id": "ba6d1c45",
   "metadata": {},
   "outputs": [
    {
     "data": {
      "text/plain": [
       "0.6826894921370859"
      ]
     },
     "execution_count": 34,
     "metadata": {},
     "output_type": "execute_result"
    }
   ],
   "source": [
    "norm_4 = norm.cdf(182) - norm.cdf(166)\n",
    "norm_4"
   ]
  },
  {
   "cell_type": "code",
   "execution_count": 35,
   "id": "11bf8ef0",
   "metadata": {},
   "outputs": [
    {
     "data": {
      "text/plain": [
       "0.9544997361036416"
      ]
     },
     "execution_count": 35,
     "metadata": {},
     "output_type": "execute_result"
    }
   ],
   "source": [
    "norm_5 = norm.cdf(190) - norm.cdf(158)\n",
    "norm_5"
   ]
  },
  {
   "cell_type": "code",
   "execution_count": 37,
   "id": "8abea461",
   "metadata": {},
   "outputs": [
    {
     "data": {
      "text/plain": [
       "0.0241000299798093"
      ]
     },
     "execution_count": 37,
     "metadata": {},
     "output_type": "execute_result"
    }
   ],
   "source": [
    "norm_6 = norm.cdf(150) + (1 - norm.cdf(190))\n",
    "norm_6"
   ]
  },
  {
   "cell_type": "code",
   "execution_count": 38,
   "id": "88df1f47",
   "metadata": {},
   "outputs": [
    {
     "data": {
      "text/plain": [
       "0.0026997960632601965"
      ]
     },
     "execution_count": 38,
     "metadata": {},
     "output_type": "execute_result"
    }
   ],
   "source": [
    "norm_7 = norm.cdf(150) + (1 - norm.cdf(198))\n",
    "norm_7"
   ]
  },
  {
   "cell_type": "code",
   "execution_count": 39,
   "id": "ab597068",
   "metadata": {},
   "outputs": [
    {
     "data": {
      "text/plain": [
       "0.15865525393145707"
      ]
     },
     "execution_count": 39,
     "metadata": {},
     "output_type": "execute_result"
    }
   ],
   "source": [
    "norm_8 = norm.cdf(166)\n",
    "norm_8"
   ]
  },
  {
   "cell_type": "markdown",
   "id": "0e06f783",
   "metadata": {},
   "source": [
    "Ответ:\n",
    "\n",
    "а). больше 182 см: 0.15865525393145707\n",
    "\n",
    "б). больше 190 см: 0.02275013194817921\n",
    "\n",
    "в). от 166 см до 190 см: 0.8185946141203637\n",
    "\n",
    "г). от 166 см до 182 см: 0.6826894921370859\n",
    "\n",
    "д). от 158 см до 190 см: 0.9544997361036416\n",
    "\n",
    "е). не выше 150 см или не ниже 190 см: 0.0241000299798093\n",
    "\n",
    "ё). не выше 150 см или не ниже 198 см: 0.0026997960632601965\n",
    "\n",
    "ж). ниже 166 см.: 0.15865525393145707"
   ]
  },
  {
   "cell_type": "markdown",
   "id": "76655928",
   "metadata": {},
   "source": [
    "# Задача № 5"
   ]
  },
  {
   "cell_type": "markdown",
   "id": "27ac22ff",
   "metadata": {},
   "source": [
    "На сколько сигм (средних квадратичных отклонений) отклоняется рост человека, равный 190 см, от\n",
    "\n",
    "математического ожидания роста в популяции, в которой M(X) = 178 см и D(X) = 25 кв.см?"
   ]
  },
  {
   "cell_type": "markdown",
   "id": "2af0e1c5",
   "metadata": {},
   "source": [
    "решение: сигма = 5, поэтому"
   ]
  },
  {
   "cell_type": "code",
   "execution_count": 45,
   "id": "fbcfd21c",
   "metadata": {},
   "outputs": [],
   "source": [
    "loc = 178\n",
    "scale = 5"
   ]
  },
  {
   "cell_type": "code",
   "execution_count": 46,
   "id": "5601524e",
   "metadata": {},
   "outputs": [
    {
     "data": {
      "text/plain": [
       "2.4"
      ]
     },
     "execution_count": 46,
     "metadata": {},
     "output_type": "execute_result"
    }
   ],
   "source": [
    "number_s = (190 -loc) / scale\n",
    "number_s"
   ]
  },
  {
   "cell_type": "markdown",
   "id": "9307c3cc",
   "metadata": {},
   "source": [
    "ответ: на 2.4 сигмы отклоняется рост человека равный 190"
   ]
  }
 ],
 "metadata": {
  "kernelspec": {
   "display_name": "Python 3",
   "language": "python",
   "name": "python3"
  },
  "language_info": {
   "codemirror_mode": {
    "name": "ipython",
    "version": 3
   },
   "file_extension": ".py",
   "mimetype": "text/x-python",
   "name": "python",
   "nbconvert_exporter": "python",
   "pygments_lexer": "ipython3",
   "version": "3.8.8"
  }
 },
 "nbformat": 4,
 "nbformat_minor": 5
}
