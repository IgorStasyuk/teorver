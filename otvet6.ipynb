{
 "cells": [
  {
   "cell_type": "markdown",
   "id": "3df2e8b1",
   "metadata": {},
   "source": [
    "# Задача № 1"
   ]
  },
  {
   "cell_type": "markdown",
   "id": "975d8d8f",
   "metadata": {},
   "source": [
    " Даны значения величины заработной платы заемщиков банка (zp) и значения их поведенческого кредитного скоринга (ks):\n",
    " \n",
    "zp = [35, 45, 190, 200, 40, 70, 54, 150, 120, 110],\n",
    "\n",
    "ks = [401, 574, 874, 919, 459, 739, 653, 902, 746, 832].\n",
    "\n",
    "Найдите ковариацию этих двух величин с помощью элементарных действий, а затем с помощью функции cov из numpy\n",
    "\n",
    "Полученные значения должны быть равны.\n",
    "\n",
    "Найдите коэффициент корреляции Пирсона с помощью ковариации и среднеквадратичных отклонений двух признаков,\n",
    "\n",
    "а затем с использованием функций из библиотек numpy и pandas."
   ]
  },
  {
   "cell_type": "code",
   "execution_count": 46,
   "id": "b260d402",
   "metadata": {},
   "outputs": [],
   "source": [
    "import pandas as pd\n",
    "import numpy as np"
   ]
  },
  {
   "cell_type": "code",
   "execution_count": 7,
   "id": "05e6c7fd",
   "metadata": {},
   "outputs": [],
   "source": [
    "zp = [35, 45, 190, 200, 40, 70, 54, 150, 120, 110]\n",
    "ks = [401, 574, 874, 919, 459, 739, 653, 902, 746, 832]"
   ]
  },
  {
   "cell_type": "code",
   "execution_count": 9,
   "id": "5214ce0e",
   "metadata": {},
   "outputs": [],
   "source": [
    "df = pd.DataFrame(list(zip(zp, ks)),\n",
    "\n",
    "               columns =['zp', 'ks'])"
   ]
  },
  {
   "cell_type": "code",
   "execution_count": 10,
   "id": "90d0c525",
   "metadata": {},
   "outputs": [
    {
     "data": {
      "text/html": [
       "<div>\n",
       "<style scoped>\n",
       "    .dataframe tbody tr th:only-of-type {\n",
       "        vertical-align: middle;\n",
       "    }\n",
       "\n",
       "    .dataframe tbody tr th {\n",
       "        vertical-align: top;\n",
       "    }\n",
       "\n",
       "    .dataframe thead th {\n",
       "        text-align: right;\n",
       "    }\n",
       "</style>\n",
       "<table border=\"1\" class=\"dataframe\">\n",
       "  <thead>\n",
       "    <tr style=\"text-align: right;\">\n",
       "      <th></th>\n",
       "      <th>zp</th>\n",
       "      <th>ks</th>\n",
       "    </tr>\n",
       "  </thead>\n",
       "  <tbody>\n",
       "    <tr>\n",
       "      <th>zp</th>\n",
       "      <td>1.00000</td>\n",
       "      <td>0.88749</td>\n",
       "    </tr>\n",
       "    <tr>\n",
       "      <th>ks</th>\n",
       "      <td>0.88749</td>\n",
       "      <td>1.00000</td>\n",
       "    </tr>\n",
       "  </tbody>\n",
       "</table>\n",
       "</div>"
      ],
      "text/plain": [
       "         zp       ks\n",
       "zp  1.00000  0.88749\n",
       "ks  0.88749  1.00000"
      ]
     },
     "execution_count": 10,
     "metadata": {},
     "output_type": "execute_result"
    }
   ],
   "source": [
    "df[['zp', 'ks']].corr()"
   ]
  },
  {
   "cell_type": "code",
   "execution_count": 11,
   "id": "0015cc3c",
   "metadata": {},
   "outputs": [
    {
     "data": {
      "text/plain": [
       "10175.37777777778"
      ]
     },
     "execution_count": 11,
     "metadata": {},
     "output_type": "execute_result"
    }
   ],
   "source": [
    "X = df['zp']\n",
    "Y = df['ks']\n",
    "\n",
    "MX = X.mean()\n",
    "MY = Y.mean()\n",
    "\n",
    "cov = ((X - MX) * (Y - MY)).sum() / (X.shape[0] - 1)\n",
    "cov"
   ]
  },
  {
   "cell_type": "code",
   "execution_count": 14,
   "id": "7f6b1b49",
   "metadata": {},
   "outputs": [
    {
     "data": {
      "text/plain": [
       "array([[ 3882.93333333, 10175.37777778],\n",
       "       [10175.37777778, 33854.32222222]])"
      ]
     },
     "execution_count": 14,
     "metadata": {},
     "output_type": "execute_result"
    }
   ],
   "source": [
    "np.cov(X, Y, ddof=1)"
   ]
  },
  {
   "cell_type": "code",
   "execution_count": 15,
   "id": "82fd5810",
   "metadata": {},
   "outputs": [
    {
     "data": {
      "text/plain": [
       "0.8874900920739164"
      ]
     },
     "execution_count": 15,
     "metadata": {},
     "output_type": "execute_result"
    }
   ],
   "source": [
    "corr = cov / (X.std() * Y.std())\n",
    "corr"
   ]
  },
  {
   "cell_type": "code",
   "execution_count": 16,
   "id": "1c66860e",
   "metadata": {},
   "outputs": [
    {
     "data": {
      "text/html": [
       "<div>\n",
       "<style scoped>\n",
       "    .dataframe tbody tr th:only-of-type {\n",
       "        vertical-align: middle;\n",
       "    }\n",
       "\n",
       "    .dataframe tbody tr th {\n",
       "        vertical-align: top;\n",
       "    }\n",
       "\n",
       "    .dataframe thead th {\n",
       "        text-align: right;\n",
       "    }\n",
       "</style>\n",
       "<table border=\"1\" class=\"dataframe\">\n",
       "  <thead>\n",
       "    <tr style=\"text-align: right;\">\n",
       "      <th></th>\n",
       "      <th>zp</th>\n",
       "      <th>ks</th>\n",
       "    </tr>\n",
       "  </thead>\n",
       "  <tbody>\n",
       "    <tr>\n",
       "      <th>zp</th>\n",
       "      <td>1.00000</td>\n",
       "      <td>0.88749</td>\n",
       "    </tr>\n",
       "    <tr>\n",
       "      <th>ks</th>\n",
       "      <td>0.88749</td>\n",
       "      <td>1.00000</td>\n",
       "    </tr>\n",
       "  </tbody>\n",
       "</table>\n",
       "</div>"
      ],
      "text/plain": [
       "         zp       ks\n",
       "zp  1.00000  0.88749\n",
       "ks  0.88749  1.00000"
      ]
     },
     "execution_count": 16,
     "metadata": {},
     "output_type": "execute_result"
    }
   ],
   "source": [
    "df[['zp', 'ks']].corr()"
   ]
  },
  {
   "cell_type": "markdown",
   "id": "1540bc3f",
   "metadata": {},
   "source": [
    "Ответ: ковариация: 10175.37777777778 ; коэффициент корреляции Пирсона: 0.8874900920739164"
   ]
  },
  {
   "cell_type": "markdown",
   "id": "ef3e0fb1",
   "metadata": {},
   "source": [
    "# Задача № 2"
   ]
  },
  {
   "cell_type": "markdown",
   "id": "8a5a80bf",
   "metadata": {},
   "source": [
    "Измерены значения IQ выборки студентов,\n",
    "\n",
    "обучающихся в местных технических вузах:\n",
    "\n",
    "131, 125, 115, 122, 131, 115, 107, 99, 125, 111.\n",
    "\n",
    "Известно, что в генеральной совокупности IQ распределен нормально.\n",
    "\n",
    "Найдите доверительный интервал для математического ожидания с надежностью 0.95."
   ]
  },
  {
   "cell_type": "code",
   "execution_count": 36,
   "id": "8cdbb53e",
   "metadata": {},
   "outputs": [],
   "source": [
    "from scipy import stats"
   ]
  },
  {
   "cell_type": "code",
   "execution_count": 23,
   "id": "934374ee",
   "metadata": {},
   "outputs": [],
   "source": [
    "samples = np.array([131, 125, 115, 122, 131, 115, 107, 99, 125, 111])"
   ]
  },
  {
   "cell_type": "code",
   "execution_count": 24,
   "id": "8a4cfef9",
   "metadata": {},
   "outputs": [
    {
     "data": {
      "text/plain": [
       "(10, 118.1, 10.54566788359614)"
      ]
     },
     "execution_count": 24,
     "metadata": {},
     "output_type": "execute_result"
    }
   ],
   "source": [
    "n = samples.shape[0]\n",
    "mean = samples.mean()\n",
    "std = samples.std(ddof=1)\n",
    "\n",
    "n, mean, std"
   ]
  },
  {
   "cell_type": "markdown",
   "id": "a7e77dc8",
   "metadata": {},
   "source": [
    "так как дисперсия неизвестна, то ищем квантили через t-распределение Стьюдента"
   ]
  },
  {
   "cell_type": "code",
   "execution_count": 25,
   "id": "c99729cf",
   "metadata": {},
   "outputs": [
    {
     "data": {
      "text/plain": [
       "(-2.2621571627409915, 2.2621571627409915)"
      ]
     },
     "execution_count": 25,
     "metadata": {},
     "output_type": "execute_result"
    }
   ],
   "source": [
    "p = 0.95\n",
    "alpha = 1 - p\n",
    "\n",
    "t1 = stats.t.ppf(alpha / 2, df=n - 1)\n",
    "t2 = stats.t.ppf(1 - alpha / 2, df=n - 1)\n",
    "\n",
    "t1, t2"
   ]
  },
  {
   "cell_type": "code",
   "execution_count": 30,
   "id": "84ae31c7",
   "metadata": {},
   "outputs": [
    {
     "data": {
      "text/plain": [
       "(110.55608365158724, 125.64391634841274)"
      ]
     },
     "execution_count": 30,
     "metadata": {},
     "output_type": "execute_result"
    }
   ],
   "source": [
    "(mean + t1 * std / np.sqrt(n), mean + t2 * std / np.sqrt(n))"
   ]
  },
  {
   "cell_type": "markdown",
   "id": "189adcb3",
   "metadata": {},
   "source": [
    "# Задача № 3"
   ]
  },
  {
   "cell_type": "markdown",
   "id": "739ba710",
   "metadata": {},
   "source": [
    "Известно, что рост футболистов в сборной распределен нормально\n",
    "\n",
    "с дисперсией генеральной совокупности, равной 25 кв.см. Объем выборки равен 27,\n",
    "\n",
    "среднее выборочное составляет 174.2. Найдите доверительный интервал для математического\n",
    "\n",
    "ожидания с надежностью 0.95."
   ]
  },
  {
   "cell_type": "code",
   "execution_count": 43,
   "id": "806b2f0e",
   "metadata": {},
   "outputs": [],
   "source": [
    "n = 27\n",
    "std = 5\n",
    "mean = 174.2"
   ]
  },
  {
   "cell_type": "markdown",
   "id": "ce68f04d",
   "metadata": {},
   "source": [
    "так как распределение нормальное, то квантили можно найти так:"
   ]
  },
  {
   "cell_type": "code",
   "execution_count": 44,
   "id": "8f0c9b3d",
   "metadata": {},
   "outputs": [
    {
     "data": {
      "text/plain": [
       "(-1.959963984540054, 1.959963984540054)"
      ]
     },
     "execution_count": 44,
     "metadata": {},
     "output_type": "execute_result"
    }
   ],
   "source": [
    "p = 0.95\n",
    "alpha = 1 - p\n",
    "\n",
    "t1 = stats.norm.ppf(alpha / 2)\n",
    "t2 = stats.norm.ppf(1 - alpha / 2)\n",
    "\n",
    "t1, t2"
   ]
  },
  {
   "cell_type": "markdown",
   "id": "765784dc",
   "metadata": {},
   "source": [
    "отсюда доверительный интервал находим по формуле:"
   ]
  },
  {
   "cell_type": "code",
   "execution_count": 45,
   "id": "196b9830",
   "metadata": {},
   "outputs": [
    {
     "data": {
      "text/plain": [
       "(172.3140237765397, 176.08597622346028)"
      ]
     },
     "execution_count": 45,
     "metadata": {},
     "output_type": "execute_result"
    }
   ],
   "source": [
    "(mean + t1 * std / np.sqrt(n), mean + t2 * std / np.sqrt(n))"
   ]
  },
  {
   "cell_type": "code",
   "execution_count": null,
   "id": "919beb68",
   "metadata": {},
   "outputs": [],
   "source": []
  }
 ],
 "metadata": {
  "kernelspec": {
   "display_name": "Python 3",
   "language": "python",
   "name": "python3"
  },
  "language_info": {
   "codemirror_mode": {
    "name": "ipython",
    "version": 3
   },
   "file_extension": ".py",
   "mimetype": "text/x-python",
   "name": "python",
   "nbconvert_exporter": "python",
   "pygments_lexer": "ipython3",
   "version": "3.8.8"
  }
 },
 "nbformat": 4,
 "nbformat_minor": 5
}
